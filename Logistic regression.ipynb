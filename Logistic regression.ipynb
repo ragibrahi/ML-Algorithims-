{
 "cells": [
  {
   "cell_type": "code",
   "execution_count": 153,
   "metadata": {},
   "outputs": [],
   "source": [
    "import pandas as pd\n",
    "from sklearn.linear_model import LogisticRegression \n",
    "from sklearn.metrics import accuracy_score, precision_score, recall_score, f1_score, confusion_matrix, precision_recall_fscore_support, roc_curve, classification_report\n",
    "from sklearn.model_selection import train_test_split\n",
    "import statsmodels.api as sm\n",
    "import seaborn as sns\n",
    "import matplotlib.pyplot as plt\n",
    "import warnings\n",
    "import numpy as np"
   ]
  },
  {
   "cell_type": "code",
   "execution_count": 154,
   "metadata": {},
   "outputs": [],
   "source": [
    "df = pd.read_csv('E:/Courses/Ragib/Log-Reg-Case-Study.csv')"
   ]
  },
  {
   "cell_type": "code",
   "execution_count": 155,
   "metadata": {},
   "outputs": [
    {
     "data": {
      "text/html": [
       "<div>\n",
       "<style scoped>\n",
       "    .dataframe tbody tr th:only-of-type {\n",
       "        vertical-align: middle;\n",
       "    }\n",
       "\n",
       "    .dataframe tbody tr th {\n",
       "        vertical-align: top;\n",
       "    }\n",
       "\n",
       "    .dataframe thead th {\n",
       "        text-align: right;\n",
       "    }\n",
       "</style>\n",
       "<table border=\"1\" class=\"dataframe\">\n",
       "  <thead>\n",
       "    <tr style=\"text-align: right;\">\n",
       "      <th></th>\n",
       "      <th>Customer_ID</th>\n",
       "      <th>Credit_Amount</th>\n",
       "      <th>Purpose_Credit_Taken</th>\n",
       "      <th>Duration_in_Months</th>\n",
       "      <th>Status_Checking_Accnt</th>\n",
       "      <th>Credit_History</th>\n",
       "      <th>Job_Status</th>\n",
       "      <th>Years_At_Present_Employment</th>\n",
       "      <th>Marital_Status_Gender</th>\n",
       "      <th>Other_Debtors_Guarantors</th>\n",
       "      <th>Current_Address_Yrs</th>\n",
       "      <th>Age</th>\n",
       "      <th>Housing</th>\n",
       "      <th>Num_Credits</th>\n",
       "      <th>Num_Dependents</th>\n",
       "      <th>Foreign_Worker</th>\n",
       "      <th>Default_On_Payment</th>\n",
       "    </tr>\n",
       "  </thead>\n",
       "  <tbody>\n",
       "    <tr>\n",
       "      <th>0</th>\n",
       "      <td>C15001</td>\n",
       "      <td>3939</td>\n",
       "      <td>P40</td>\n",
       "      <td>11</td>\n",
       "      <td>S11</td>\n",
       "      <td>A34</td>\n",
       "      <td>A172</td>\n",
       "      <td>E73</td>\n",
       "      <td>A93</td>\n",
       "      <td>A101</td>\n",
       "      <td>2</td>\n",
       "      <td>40</td>\n",
       "      <td>A152</td>\n",
       "      <td>2</td>\n",
       "      <td>2</td>\n",
       "      <td>A201</td>\n",
       "      <td>0</td>\n",
       "    </tr>\n",
       "    <tr>\n",
       "      <th>1</th>\n",
       "      <td>C15002</td>\n",
       "      <td>1795</td>\n",
       "      <td>P43</td>\n",
       "      <td>18</td>\n",
       "      <td>S12</td>\n",
       "      <td>A34</td>\n",
       "      <td>A172</td>\n",
       "      <td>E75</td>\n",
       "      <td>A92</td>\n",
       "      <td>A103</td>\n",
       "      <td>4</td>\n",
       "      <td>48</td>\n",
       "      <td>A151</td>\n",
       "      <td>2</td>\n",
       "      <td>1</td>\n",
       "      <td>A201</td>\n",
       "      <td>0</td>\n",
       "    </tr>\n",
       "    <tr>\n",
       "      <th>2</th>\n",
       "      <td>C15003</td>\n",
       "      <td>6143</td>\n",
       "      <td>P41</td>\n",
       "      <td>48</td>\n",
       "      <td>S11</td>\n",
       "      <td>A34</td>\n",
       "      <td>A172</td>\n",
       "      <td>E75</td>\n",
       "      <td>A92</td>\n",
       "      <td>A101</td>\n",
       "      <td>4</td>\n",
       "      <td>58</td>\n",
       "      <td>A153</td>\n",
       "      <td>2</td>\n",
       "      <td>1</td>\n",
       "      <td>A201</td>\n",
       "      <td>1</td>\n",
       "    </tr>\n",
       "    <tr>\n",
       "      <th>3</th>\n",
       "      <td>C15004</td>\n",
       "      <td>2675</td>\n",
       "      <td>P43</td>\n",
       "      <td>22</td>\n",
       "      <td>S14</td>\n",
       "      <td>A32</td>\n",
       "      <td>A173</td>\n",
       "      <td>E75</td>\n",
       "      <td>A93</td>\n",
       "      <td>A101</td>\n",
       "      <td>4</td>\n",
       "      <td>40</td>\n",
       "      <td>A152</td>\n",
       "      <td>1</td>\n",
       "      <td>1</td>\n",
       "      <td>A201</td>\n",
       "      <td>0</td>\n",
       "    </tr>\n",
       "    <tr>\n",
       "      <th>4</th>\n",
       "      <td>C15005</td>\n",
       "      <td>12389</td>\n",
       "      <td>P40</td>\n",
       "      <td>36</td>\n",
       "      <td>S12</td>\n",
       "      <td>A32</td>\n",
       "      <td>NaN</td>\n",
       "      <td>E73</td>\n",
       "      <td>A93</td>\n",
       "      <td>A101</td>\n",
       "      <td>4</td>\n",
       "      <td>37</td>\n",
       "      <td>A153</td>\n",
       "      <td>1</td>\n",
       "      <td>1</td>\n",
       "      <td>A201</td>\n",
       "      <td>1</td>\n",
       "    </tr>\n",
       "  </tbody>\n",
       "</table>\n",
       "</div>"
      ],
      "text/plain": [
       "  Customer_ID  Credit_Amount Purpose_Credit_Taken  Duration_in_Months  \\\n",
       "0      C15001           3939                  P40                  11   \n",
       "1      C15002           1795                  P43                  18   \n",
       "2      C15003           6143                  P41                  48   \n",
       "3      C15004           2675                  P43                  22   \n",
       "4      C15005          12389                  P40                  36   \n",
       "\n",
       "  Status_Checking_Accnt Credit_History Job_Status Years_At_Present_Employment  \\\n",
       "0                   S11            A34       A172                         E73   \n",
       "1                   S12            A34       A172                         E75   \n",
       "2                   S11            A34       A172                         E75   \n",
       "3                   S14            A32       A173                         E75   \n",
       "4                   S12            A32        NaN                         E73   \n",
       "\n",
       "  Marital_Status_Gender Other_Debtors_Guarantors  Current_Address_Yrs  Age  \\\n",
       "0                   A93                     A101                    2   40   \n",
       "1                   A92                     A103                    4   48   \n",
       "2                   A92                     A101                    4   58   \n",
       "3                   A93                     A101                    4   40   \n",
       "4                   A93                     A101                    4   37   \n",
       "\n",
       "  Housing  Num_Credits  Num_Dependents Foreign_Worker  Default_On_Payment  \n",
       "0    A152            2               2           A201                   0  \n",
       "1    A151            2               1           A201                   0  \n",
       "2    A153            2               1           A201                   1  \n",
       "3    A152            1               1           A201                   0  \n",
       "4    A153            1               1           A201                   1  "
      ]
     },
     "execution_count": 155,
     "metadata": {},
     "output_type": "execute_result"
    }
   ],
   "source": [
    "df.head()"
   ]
  },
  {
   "cell_type": "code",
   "execution_count": 156,
   "metadata": {},
   "outputs": [],
   "source": [
    "data = df"
   ]
  },
  {
   "cell_type": "code",
   "execution_count": 157,
   "metadata": {},
   "outputs": [
    {
     "data": {
      "text/plain": [
       "array([['C15001', 3939, 'P40', ..., 2, 'A201', 0],\n",
       "       ['C15002', 1795, 'P43', ..., 1, 'A201', 0],\n",
       "       ['C15003', 6143, 'P41', ..., 1, 'A201', 1],\n",
       "       ...,\n",
       "       ['C19998', 3595, 'P43', ..., 1, 'A201', 0],\n",
       "       ['C19999', 2622, 'P49', ..., 1, 'A201', 0],\n",
       "       ['C20000', 2142, 'P49', ..., 1, 'A201', 0]], dtype=object)"
      ]
     },
     "execution_count": 157,
     "metadata": {},
     "output_type": "execute_result"
    }
   ],
   "source": [
    "arr = data.values\n",
    "arr"
   ]
  },
  {
   "cell_type": "code",
   "execution_count": 158,
   "metadata": {},
   "outputs": [],
   "source": [
    "X = data.iloc[:, [1, 10, 11, 13]]"
   ]
  },
  {
   "cell_type": "code",
   "execution_count": 7,
   "metadata": {},
   "outputs": [
    {
     "data": {
      "text/html": [
       "<div>\n",
       "<style scoped>\n",
       "    .dataframe tbody tr th:only-of-type {\n",
       "        vertical-align: middle;\n",
       "    }\n",
       "\n",
       "    .dataframe tbody tr th {\n",
       "        vertical-align: top;\n",
       "    }\n",
       "\n",
       "    .dataframe thead th {\n",
       "        text-align: right;\n",
       "    }\n",
       "</style>\n",
       "<table border=\"1\" class=\"dataframe\">\n",
       "  <thead>\n",
       "    <tr style=\"text-align: right;\">\n",
       "      <th></th>\n",
       "      <th>Credit_Amount</th>\n",
       "      <th>Current_Address_Yrs</th>\n",
       "      <th>Age</th>\n",
       "      <th>Num_Credits</th>\n",
       "    </tr>\n",
       "  </thead>\n",
       "  <tbody>\n",
       "    <tr>\n",
       "      <th>0</th>\n",
       "      <td>3939</td>\n",
       "      <td>2</td>\n",
       "      <td>40</td>\n",
       "      <td>2</td>\n",
       "    </tr>\n",
       "    <tr>\n",
       "      <th>1</th>\n",
       "      <td>1795</td>\n",
       "      <td>4</td>\n",
       "      <td>48</td>\n",
       "      <td>2</td>\n",
       "    </tr>\n",
       "    <tr>\n",
       "      <th>2</th>\n",
       "      <td>6143</td>\n",
       "      <td>4</td>\n",
       "      <td>58</td>\n",
       "      <td>2</td>\n",
       "    </tr>\n",
       "    <tr>\n",
       "      <th>3</th>\n",
       "      <td>2675</td>\n",
       "      <td>4</td>\n",
       "      <td>40</td>\n",
       "      <td>1</td>\n",
       "    </tr>\n",
       "    <tr>\n",
       "      <th>4</th>\n",
       "      <td>12389</td>\n",
       "      <td>4</td>\n",
       "      <td>37</td>\n",
       "      <td>1</td>\n",
       "    </tr>\n",
       "  </tbody>\n",
       "</table>\n",
       "</div>"
      ],
      "text/plain": [
       "   Credit_Amount  Current_Address_Yrs  Age  Num_Credits\n",
       "0           3939                    2   40            2\n",
       "1           1795                    4   48            2\n",
       "2           6143                    4   58            2\n",
       "3           2675                    4   40            1\n",
       "4          12389                    4   37            1"
      ]
     },
     "execution_count": 7,
     "metadata": {},
     "output_type": "execute_result"
    }
   ],
   "source": [
    "X.head()"
   ]
  },
  {
   "cell_type": "code",
   "execution_count": 159,
   "metadata": {},
   "outputs": [],
   "source": [
    "Y = data.iloc[:, 16]"
   ]
  },
  {
   "cell_type": "code",
   "execution_count": 160,
   "metadata": {},
   "outputs": [
    {
     "data": {
      "text/plain": [
       "0    0\n",
       "1    0\n",
       "2    1\n",
       "3    0\n",
       "4    1\n",
       "Name: Default_On_Payment, dtype: int64"
      ]
     },
     "execution_count": 160,
     "metadata": {},
     "output_type": "execute_result"
    }
   ],
   "source": [
    "Y.head()"
   ]
  },
  {
   "cell_type": "code",
   "execution_count": 161,
   "metadata": {},
   "outputs": [
    {
     "data": {
      "text/plain": [
       "LogisticRegression()"
      ]
     },
     "execution_count": 161,
     "metadata": {},
     "output_type": "execute_result"
    }
   ],
   "source": [
    "model = LogisticRegression()\n",
    "model.fit(X, Y)"
   ]
  },
  {
   "cell_type": "code",
   "execution_count": 162,
   "metadata": {},
   "outputs": [],
   "source": [
    "pred = model.predict(X)"
   ]
  },
  {
   "cell_type": "code",
   "execution_count": 163,
   "metadata": {},
   "outputs": [
    {
     "name": "stdout",
     "output_type": "stream",
     "text": [
      "[0 0 0 ... 0 0 0]\n",
      "0       0\n",
      "1       0\n",
      "2       1\n",
      "3       0\n",
      "4       1\n",
      "       ..\n",
      "4995    0\n",
      "4996    0\n",
      "4997    0\n",
      "4998    0\n",
      "4999    0\n",
      "Name: Default_On_Payment, Length: 5000, dtype: int64\n"
     ]
    }
   ],
   "source": [
    "print(pred)\n",
    "print(Y)"
   ]
  },
  {
   "cell_type": "code",
   "execution_count": 164,
   "metadata": {},
   "outputs": [
    {
     "data": {
      "text/html": [
       "<div>\n",
       "<style scoped>\n",
       "    .dataframe tbody tr th:only-of-type {\n",
       "        vertical-align: middle;\n",
       "    }\n",
       "\n",
       "    .dataframe tbody tr th {\n",
       "        vertical-align: top;\n",
       "    }\n",
       "\n",
       "    .dataframe thead th {\n",
       "        text-align: right;\n",
       "    }\n",
       "</style>\n",
       "<table border=\"1\" class=\"dataframe\">\n",
       "  <thead>\n",
       "    <tr style=\"text-align: right;\">\n",
       "      <th></th>\n",
       "      <th>0</th>\n",
       "      <th>1</th>\n",
       "    </tr>\n",
       "  </thead>\n",
       "  <tbody>\n",
       "    <tr>\n",
       "      <th>0</th>\n",
       "      <td>3450</td>\n",
       "      <td>1385</td>\n",
       "    </tr>\n",
       "    <tr>\n",
       "      <th>1</th>\n",
       "      <td>55</td>\n",
       "      <td>110</td>\n",
       "    </tr>\n",
       "  </tbody>\n",
       "</table>\n",
       "</div>"
      ],
      "text/plain": [
       "      0     1\n",
       "0  3450  1385\n",
       "1    55   110"
      ]
     },
     "execution_count": 164,
     "metadata": {},
     "output_type": "execute_result"
    }
   ],
   "source": [
    "cm_df = pd.DataFrame(confusion_matrix(Y, pred).T, index=model.classes_, columns=model.classes_)\n",
    "cm_df"
   ]
  },
  {
   "cell_type": "code",
   "execution_count": 165,
   "metadata": {},
   "outputs": [
    {
     "name": "stdout",
     "output_type": "stream",
     "text": [
      "True          0     1\n",
      "Predicted            \n",
      "0          3450  1385\n",
      "1            55   110\n",
      "              precision    recall  f1-score   support\n",
      "\n",
      "           0       0.71      0.98      0.83      3505\n",
      "           1       0.67      0.07      0.13      1495\n",
      "\n",
      "    accuracy                           0.71      5000\n",
      "   macro avg       0.69      0.53      0.48      5000\n",
      "weighted avg       0.70      0.71      0.62      5000\n",
      "\n"
     ]
    },
    {
     "data": {
      "text/plain": [
       "0.712"
      ]
     },
     "execution_count": 165,
     "metadata": {},
     "output_type": "execute_result"
    }
   ],
   "source": [
    "cm_df.index.name = 'Predicted'\n",
    "cm_df.columns.name = 'True'\n",
    "print(cm_df)\n",
    "print(classification_report(Y, pred))\n",
    "model.score(X, Y)"
   ]
  },
  {
   "cell_type": "code",
   "execution_count": 166,
   "metadata": {},
   "outputs": [],
   "source": [
    "X1 = df.iloc[:, :-1]\n",
    "Y1 = df.iloc[:, -1]"
   ]
  },
  {
   "cell_type": "code",
   "execution_count": 167,
   "metadata": {},
   "outputs": [],
   "source": [
    "x_train, x_test, y_train, y_test = train_test_split(X1, Y1, test_size=0.30, random_state=4)"
   ]
  },
  {
   "cell_type": "code",
   "execution_count": 168,
   "metadata": {},
   "outputs": [
    {
     "name": "stdout",
     "output_type": "stream",
     "text": [
      "19\n",
      "85\n"
     ]
    }
   ],
   "source": [
    "print(min(df.Age))\n",
    "print(max(df.Age))"
   ]
  },
  {
   "cell_type": "code",
   "execution_count": 169,
   "metadata": {},
   "outputs": [],
   "source": [
    "df.loc[df['Age']>75,'Age'] = 75"
   ]
  },
  {
   "cell_type": "code",
   "execution_count": 170,
   "metadata": {},
   "outputs": [
    {
     "name": "stdout",
     "output_type": "stream",
     "text": [
      "19\n",
      "75\n"
     ]
    }
   ],
   "source": [
    "print(min(df.Age))\n",
    "print(max(df.Age))"
   ]
  },
  {
   "cell_type": "code",
   "execution_count": 171,
   "metadata": {},
   "outputs": [
    {
     "data": {
      "text/plain": [
       "Customer_ID                     0\n",
       "Credit_Amount                   0\n",
       "Purpose_Credit_Taken            0\n",
       "Duration_in_Months              0\n",
       "Status_Checking_Accnt           0\n",
       "Credit_History                  0\n",
       "Job_Status                     12\n",
       "Years_At_Present_Employment     0\n",
       "Marital_Status_Gender           0\n",
       "Other_Debtors_Guarantors        0\n",
       "Current_Address_Yrs             0\n",
       "Age                             0\n",
       "Housing                         9\n",
       "Num_Credits                     0\n",
       "Num_Dependents                  0\n",
       "Foreign_Worker                  0\n",
       "Default_On_Payment              0\n",
       "dtype: int64"
      ]
     },
     "execution_count": 171,
     "metadata": {},
     "output_type": "execute_result"
    }
   ],
   "source": [
    "df.isnull().sum()"
   ]
  },
  {
   "cell_type": "code",
   "execution_count": 172,
   "metadata": {},
   "outputs": [
    {
     "name": "stdout",
     "output_type": "stream",
     "text": [
      "(3500, 16)\n",
      "(1500, 16)\n",
      "(3500,)\n",
      "(1500,)\n"
     ]
    }
   ],
   "source": [
    "print(x_train.shape)\n",
    "print(x_test.shape)\n",
    "print(y_train.shape)\n",
    "print(y_test.shape)"
   ]
  },
  {
   "cell_type": "code",
   "execution_count": 173,
   "metadata": {},
   "outputs": [
    {
     "name": "stdout",
     "output_type": "stream",
     "text": [
      "count    5000.000000\n",
      "mean       35.548800\n",
      "std        11.378907\n",
      "min        19.000000\n",
      "25%        27.000000\n",
      "50%        33.000000\n",
      "75%        42.000000\n",
      "max        75.000000\n",
      "Name: Age, dtype: float64\n"
     ]
    }
   ],
   "source": [
    "print(df.Age.describe())"
   ]
  },
  {
   "cell_type": "code",
   "execution_count": 174,
   "metadata": {},
   "outputs": [
    {
     "name": "stdout",
     "output_type": "stream",
     "text": [
      "74.0\n"
     ]
    }
   ],
   "source": [
    "# A quantile is the value below which a fraction of observations in a group falls. For example, a prediction for quantile 0.9 should over-predict 90% of the times.\n",
    "print(df.Age.quantile(q=0.995)) #quantile is used for minimizing the loss function"
   ]
  },
  {
   "cell_type": "code",
   "execution_count": 175,
   "metadata": {},
   "outputs": [
    {
     "name": "stdout",
     "output_type": "stream",
     "text": [
      "74.0\n"
     ]
    }
   ],
   "source": [
    "print(df.Age.quantile(q=0.997))"
   ]
  },
  {
   "cell_type": "code",
   "execution_count": 176,
   "metadata": {},
   "outputs": [
    {
     "name": "stdout",
     "output_type": "stream",
     "text": [
      "75.0\n"
     ]
    }
   ],
   "source": [
    "print(df.Age.quantile(q=0.999))"
   ]
  },
  {
   "cell_type": "markdown",
   "metadata": {},
   "source": [
    "### Univariate"
   ]
  },
  {
   "cell_type": "code",
   "execution_count": 177,
   "metadata": {},
   "outputs": [
    {
     "data": {
      "text/html": [
       "<div>\n",
       "<style scoped>\n",
       "    .dataframe tbody tr th:only-of-type {\n",
       "        vertical-align: middle;\n",
       "    }\n",
       "\n",
       "    .dataframe tbody tr th {\n",
       "        vertical-align: top;\n",
       "    }\n",
       "\n",
       "    .dataframe thead th {\n",
       "        text-align: right;\n",
       "    }\n",
       "</style>\n",
       "<table border=\"1\" class=\"dataframe\">\n",
       "  <thead>\n",
       "    <tr style=\"text-align: right;\">\n",
       "      <th>Default_On_Payment</th>\n",
       "      <th>0</th>\n",
       "      <th>1</th>\n",
       "    </tr>\n",
       "    <tr>\n",
       "      <th>Housing</th>\n",
       "      <th></th>\n",
       "      <th></th>\n",
       "    </tr>\n",
       "  </thead>\n",
       "  <tbody>\n",
       "    <tr>\n",
       "      <th>A151</th>\n",
       "      <td>545</td>\n",
       "      <td>350</td>\n",
       "    </tr>\n",
       "    <tr>\n",
       "      <th>A152</th>\n",
       "      <td>2632</td>\n",
       "      <td>924</td>\n",
       "    </tr>\n",
       "    <tr>\n",
       "      <th>A153</th>\n",
       "      <td>320</td>\n",
       "      <td>220</td>\n",
       "    </tr>\n",
       "  </tbody>\n",
       "</table>\n",
       "</div>"
      ],
      "text/plain": [
       "Default_On_Payment     0    1\n",
       "Housing                      \n",
       "A151                 545  350\n",
       "A152                2632  924\n",
       "A153                 320  220"
      ]
     },
     "execution_count": 177,
     "metadata": {},
     "output_type": "execute_result"
    }
   ],
   "source": [
    "pd.crosstab(df.Housing, df.Default_On_Payment)"
   ]
  },
  {
   "cell_type": "code",
   "execution_count": 178,
   "metadata": {},
   "outputs": [
    {
     "data": {
      "text/html": [
       "<div>\n",
       "<style scoped>\n",
       "    .dataframe tbody tr th:only-of-type {\n",
       "        vertical-align: middle;\n",
       "    }\n",
       "\n",
       "    .dataframe tbody tr th {\n",
       "        vertical-align: top;\n",
       "    }\n",
       "\n",
       "    .dataframe thead th {\n",
       "        text-align: right;\n",
       "    }\n",
       "</style>\n",
       "<table border=\"1\" class=\"dataframe\">\n",
       "  <thead>\n",
       "    <tr style=\"text-align: right;\">\n",
       "      <th></th>\n",
       "      <th></th>\n",
       "      <th>Customer_ID</th>\n",
       "      <th>Credit_Amount</th>\n",
       "      <th>Purpose_Credit_Taken</th>\n",
       "      <th>Duration_in_Months</th>\n",
       "      <th>Status_Checking_Accnt</th>\n",
       "      <th>Credit_History</th>\n",
       "      <th>Job_Status</th>\n",
       "      <th>Years_At_Present_Employment</th>\n",
       "      <th>Marital_Status_Gender</th>\n",
       "      <th>Other_Debtors_Guarantors</th>\n",
       "      <th>Current_Address_Yrs</th>\n",
       "      <th>Age</th>\n",
       "      <th>Num_Credits</th>\n",
       "      <th>Num_Dependents</th>\n",
       "      <th>Foreign_Worker</th>\n",
       "    </tr>\n",
       "    <tr>\n",
       "      <th>Housing</th>\n",
       "      <th>Default_On_Payment</th>\n",
       "      <th></th>\n",
       "      <th></th>\n",
       "      <th></th>\n",
       "      <th></th>\n",
       "      <th></th>\n",
       "      <th></th>\n",
       "      <th></th>\n",
       "      <th></th>\n",
       "      <th></th>\n",
       "      <th></th>\n",
       "      <th></th>\n",
       "      <th></th>\n",
       "      <th></th>\n",
       "      <th></th>\n",
       "      <th></th>\n",
       "    </tr>\n",
       "  </thead>\n",
       "  <tbody>\n",
       "    <tr>\n",
       "      <th rowspan=\"2\" valign=\"top\">A151</th>\n",
       "      <th>0</th>\n",
       "      <td>545</td>\n",
       "      <td>545</td>\n",
       "      <td>545</td>\n",
       "      <td>545</td>\n",
       "      <td>545</td>\n",
       "      <td>545</td>\n",
       "      <td>544</td>\n",
       "      <td>545</td>\n",
       "      <td>545</td>\n",
       "      <td>545</td>\n",
       "      <td>545</td>\n",
       "      <td>545</td>\n",
       "      <td>545</td>\n",
       "      <td>545</td>\n",
       "      <td>545</td>\n",
       "    </tr>\n",
       "    <tr>\n",
       "      <th>1</th>\n",
       "      <td>350</td>\n",
       "      <td>350</td>\n",
       "      <td>350</td>\n",
       "      <td>350</td>\n",
       "      <td>350</td>\n",
       "      <td>350</td>\n",
       "      <td>350</td>\n",
       "      <td>350</td>\n",
       "      <td>350</td>\n",
       "      <td>350</td>\n",
       "      <td>350</td>\n",
       "      <td>350</td>\n",
       "      <td>350</td>\n",
       "      <td>350</td>\n",
       "      <td>350</td>\n",
       "    </tr>\n",
       "    <tr>\n",
       "      <th rowspan=\"2\" valign=\"top\">A152</th>\n",
       "      <th>0</th>\n",
       "      <td>2632</td>\n",
       "      <td>2632</td>\n",
       "      <td>2632</td>\n",
       "      <td>2632</td>\n",
       "      <td>2632</td>\n",
       "      <td>2632</td>\n",
       "      <td>2627</td>\n",
       "      <td>2632</td>\n",
       "      <td>2632</td>\n",
       "      <td>2632</td>\n",
       "      <td>2632</td>\n",
       "      <td>2632</td>\n",
       "      <td>2632</td>\n",
       "      <td>2632</td>\n",
       "      <td>2632</td>\n",
       "    </tr>\n",
       "    <tr>\n",
       "      <th>1</th>\n",
       "      <td>924</td>\n",
       "      <td>924</td>\n",
       "      <td>924</td>\n",
       "      <td>924</td>\n",
       "      <td>924</td>\n",
       "      <td>924</td>\n",
       "      <td>922</td>\n",
       "      <td>924</td>\n",
       "      <td>924</td>\n",
       "      <td>924</td>\n",
       "      <td>924</td>\n",
       "      <td>924</td>\n",
       "      <td>924</td>\n",
       "      <td>924</td>\n",
       "      <td>924</td>\n",
       "    </tr>\n",
       "    <tr>\n",
       "      <th rowspan=\"2\" valign=\"top\">A153</th>\n",
       "      <th>0</th>\n",
       "      <td>320</td>\n",
       "      <td>320</td>\n",
       "      <td>320</td>\n",
       "      <td>320</td>\n",
       "      <td>320</td>\n",
       "      <td>320</td>\n",
       "      <td>318</td>\n",
       "      <td>320</td>\n",
       "      <td>320</td>\n",
       "      <td>320</td>\n",
       "      <td>320</td>\n",
       "      <td>320</td>\n",
       "      <td>320</td>\n",
       "      <td>320</td>\n",
       "      <td>320</td>\n",
       "    </tr>\n",
       "    <tr>\n",
       "      <th>1</th>\n",
       "      <td>220</td>\n",
       "      <td>220</td>\n",
       "      <td>220</td>\n",
       "      <td>220</td>\n",
       "      <td>220</td>\n",
       "      <td>220</td>\n",
       "      <td>219</td>\n",
       "      <td>220</td>\n",
       "      <td>220</td>\n",
       "      <td>220</td>\n",
       "      <td>220</td>\n",
       "      <td>220</td>\n",
       "      <td>220</td>\n",
       "      <td>220</td>\n",
       "      <td>220</td>\n",
       "    </tr>\n",
       "  </tbody>\n",
       "</table>\n",
       "</div>"
      ],
      "text/plain": [
       "                            Customer_ID  Credit_Amount  Purpose_Credit_Taken  \\\n",
       "Housing Default_On_Payment                                                     \n",
       "A151    0                           545            545                   545   \n",
       "        1                           350            350                   350   \n",
       "A152    0                          2632           2632                  2632   \n",
       "        1                           924            924                   924   \n",
       "A153    0                           320            320                   320   \n",
       "        1                           220            220                   220   \n",
       "\n",
       "                            Duration_in_Months  Status_Checking_Accnt  \\\n",
       "Housing Default_On_Payment                                              \n",
       "A151    0                                  545                    545   \n",
       "        1                                  350                    350   \n",
       "A152    0                                 2632                   2632   \n",
       "        1                                  924                    924   \n",
       "A153    0                                  320                    320   \n",
       "        1                                  220                    220   \n",
       "\n",
       "                            Credit_History  Job_Status  \\\n",
       "Housing Default_On_Payment                               \n",
       "A151    0                              545         544   \n",
       "        1                              350         350   \n",
       "A152    0                             2632        2627   \n",
       "        1                              924         922   \n",
       "A153    0                              320         318   \n",
       "        1                              220         219   \n",
       "\n",
       "                            Years_At_Present_Employment  \\\n",
       "Housing Default_On_Payment                                \n",
       "A151    0                                           545   \n",
       "        1                                           350   \n",
       "A152    0                                          2632   \n",
       "        1                                           924   \n",
       "A153    0                                           320   \n",
       "        1                                           220   \n",
       "\n",
       "                            Marital_Status_Gender  Other_Debtors_Guarantors  \\\n",
       "Housing Default_On_Payment                                                    \n",
       "A151    0                                     545                       545   \n",
       "        1                                     350                       350   \n",
       "A152    0                                    2632                      2632   \n",
       "        1                                     924                       924   \n",
       "A153    0                                     320                       320   \n",
       "        1                                     220                       220   \n",
       "\n",
       "                            Current_Address_Yrs   Age  Num_Credits  \\\n",
       "Housing Default_On_Payment                                           \n",
       "A151    0                                   545   545          545   \n",
       "        1                                   350   350          350   \n",
       "A152    0                                  2632  2632         2632   \n",
       "        1                                   924   924          924   \n",
       "A153    0                                   320   320          320   \n",
       "        1                                   220   220          220   \n",
       "\n",
       "                            Num_Dependents  Foreign_Worker  \n",
       "Housing Default_On_Payment                                  \n",
       "A151    0                              545             545  \n",
       "        1                              350             350  \n",
       "A152    0                             2632            2632  \n",
       "        1                              924             924  \n",
       "A153    0                              320             320  \n",
       "        1                              220             220  "
      ]
     },
     "execution_count": 178,
     "metadata": {},
     "output_type": "execute_result"
    }
   ],
   "source": [
    "dfg = df.groupby(['Housing', 'Default_On_Payment']).count()\n",
    "dfg"
   ]
  },
  {
   "cell_type": "code",
   "execution_count": 179,
   "metadata": {},
   "outputs": [
    {
     "name": "stdout",
     "output_type": "stream",
     "text": [
      "count     4991\n",
      "unique       3\n",
      "top       A152\n",
      "freq      3556\n",
      "Name: Housing, dtype: object\n"
     ]
    }
   ],
   "source": [
    "print(df.Housing.describe())"
   ]
  },
  {
   "cell_type": "code",
   "execution_count": 180,
   "metadata": {},
   "outputs": [
    {
     "name": "stdout",
     "output_type": "stream",
     "text": [
      "A152    3556\n",
      "A151     895\n",
      "A153     540\n",
      "Name: Housing, dtype: int64\n"
     ]
    }
   ],
   "source": [
    "print(df.Housing.value_counts())"
   ]
  },
  {
   "cell_type": "code",
   "execution_count": 181,
   "metadata": {},
   "outputs": [
    {
     "name": "stdout",
     "output_type": "stream",
     "text": [
      "['A152' 'A151' 'A153' nan]\n"
     ]
    }
   ],
   "source": [
    "print(df.Housing.unique())"
   ]
  },
  {
   "cell_type": "code",
   "execution_count": 182,
   "metadata": {},
   "outputs": [
    {
     "data": {
      "image/png": "[encoded data removed]",
      "text/plain": [
       "<Figure size 432x288 with 1 Axes>"
      ]
     },
     "metadata": {
      "needs_background": "light"
     },
     "output_type": "display_data"
    },
    {
     "data": {
      "text/plain": [
       "<Figure size 432x288 with 0 Axes>"
      ]
     },
     "metadata": {},
     "output_type": "display_data"
    }
   ],
   "source": [
    "sns.countplot(x='Housing', data=df, palette='hls')\n",
    "plt.show()\n",
    "plt.savefig('count_plot')"
   ]
  },
  {
   "cell_type": "code",
   "execution_count": 183,
   "metadata": {},
   "outputs": [
    {
     "name": "stdout",
     "output_type": "stream",
     "text": [
      "9\n"
     ]
    }
   ],
   "source": [
    "print(df.Housing.isnull().sum())"
   ]
  },
  {
   "cell_type": "code",
   "execution_count": 184,
   "metadata": {},
   "outputs": [
    {
     "data": {
      "text/html": [
       "<div>\n",
       "<style scoped>\n",
       "    .dataframe tbody tr th:only-of-type {\n",
       "        vertical-align: middle;\n",
       "    }\n",
       "\n",
       "    .dataframe tbody tr th {\n",
       "        vertical-align: top;\n",
       "    }\n",
       "\n",
       "    .dataframe thead th {\n",
       "        text-align: right;\n",
       "    }\n",
       "</style>\n",
       "<table border=\"1\" class=\"dataframe\">\n",
       "  <thead>\n",
       "    <tr style=\"text-align: right;\">\n",
       "      <th>Default_On_Payment</th>\n",
       "      <th>0</th>\n",
       "      <th>1</th>\n",
       "    </tr>\n",
       "    <tr>\n",
       "      <th>Housing</th>\n",
       "      <th></th>\n",
       "      <th></th>\n",
       "    </tr>\n",
       "  </thead>\n",
       "  <tbody>\n",
       "    <tr>\n",
       "      <th>False</th>\n",
       "      <td>3497</td>\n",
       "      <td>1494</td>\n",
       "    </tr>\n",
       "    <tr>\n",
       "      <th>True</th>\n",
       "      <td>8</td>\n",
       "      <td>1</td>\n",
       "    </tr>\n",
       "  </tbody>\n",
       "</table>\n",
       "</div>"
      ],
      "text/plain": [
       "Default_On_Payment     0     1\n",
       "Housing                       \n",
       "False               3497  1494\n",
       "True                   8     1"
      ]
     },
     "execution_count": 184,
     "metadata": {},
     "output_type": "execute_result"
    }
   ],
   "source": [
    "pd.crosstab(data.Housing.isnull(),data.Default_On_Payment)"
   ]
  },
  {
   "cell_type": "markdown",
   "metadata": {},
   "source": [
    "### Bivariate"
   ]
  },
  {
   "cell_type": "code",
   "execution_count": 185,
   "metadata": {},
   "outputs": [
    {
     "data": {
      "image/png": "[encoded data removed]",
      "text/plain": [
       "<Figure size 432x288 with 1 Axes>"
      ]
     },
     "metadata": {
      "needs_background": "light"
     },
     "output_type": "display_data"
    }
   ],
   "source": [
    "pd.crosstab(data.Housing, data.Default_On_Payment).plot(kind='bar')\n",
    "plt.title('Frequency of Defaulters')\n",
    "plt.xlabel('Housing')\n",
    "plt.ylabel('Frequency of Defaults')\n",
    "plt.savefig('dflt_fre_job')\n",
    "plt.show()"
   ]
  },
  {
   "cell_type": "code",
   "execution_count": 186,
   "metadata": {},
   "outputs": [
    {
     "data": {
      "text/plain": [
       "0    A152\n",
       "dtype: object"
      ]
     },
     "execution_count": 186,
     "metadata": {},
     "output_type": "execute_result"
    }
   ],
   "source": [
    "df['Housing'].mode()"
   ]
  },
  {
   "cell_type": "code",
   "execution_count": 187,
   "metadata": {},
   "outputs": [
    {
     "data": {
      "text/plain": [
       "'A152'"
      ]
     },
     "execution_count": 187,
     "metadata": {},
     "output_type": "execute_result"
    }
   ],
   "source": [
    "df['Housing'].mode()[0]"
   ]
  },
  {
   "cell_type": "code",
   "execution_count": 188,
   "metadata": {},
   "outputs": [
    {
     "data": {
      "text/plain": [
       "3556"
      ]
     },
     "execution_count": 188,
     "metadata": {},
     "output_type": "execute_result"
    }
   ],
   "source": [
    "df.Housing[df.Housing=='A152'].count()"
   ]
  },
  {
   "cell_type": "code",
   "execution_count": 189,
   "metadata": {},
   "outputs": [],
   "source": [
    "df['Housing'].fillna(df['Housing'].mode()[0], inplace = True)"
   ]
  },
  {
   "cell_type": "code",
   "execution_count": 190,
   "metadata": {},
   "outputs": [
    {
     "data": {
      "text/plain": [
       "3565"
      ]
     },
     "execution_count": 190,
     "metadata": {},
     "output_type": "execute_result"
    }
   ],
   "source": [
    "df.Housing[df.Housing=='A152'].count()"
   ]
  },
  {
   "cell_type": "code",
   "execution_count": 191,
   "metadata": {},
   "outputs": [
    {
     "data": {
      "text/plain": [
       "0"
      ]
     },
     "execution_count": 191,
     "metadata": {},
     "output_type": "execute_result"
    }
   ],
   "source": [
    "df.Housing.isnull().sum()"
   ]
  },
  {
   "cell_type": "code",
   "execution_count": 192,
   "metadata": {},
   "outputs": [
    {
     "name": "stdout",
     "output_type": "stream",
     "text": [
      "1    4225\n",
      "2     775\n",
      "Name: Num_Dependents, dtype: int64\n"
     ]
    }
   ],
   "source": [
    "print(df.Num_Dependents.value_counts())"
   ]
  },
  {
   "cell_type": "code",
   "execution_count": 193,
   "metadata": {},
   "outputs": [
    {
     "data": {
      "image/png": "[encoded data removed]",
      "text/plain": [
       "<Figure size 432x288 with 1 Axes>"
      ]
     },
     "metadata": {
      "needs_background": "light"
     },
     "output_type": "display_data"
    },
    {
     "data": {
      "text/plain": [
       "<Figure size 432x288 with 0 Axes>"
      ]
     },
     "metadata": {},
     "output_type": "display_data"
    }
   ],
   "source": [
    "sns.countplot(x='Num_Dependents',data=df, palette='hls')\n",
    "plt.show()\n",
    "plt.savefig('count_plot')"
   ]
  },
  {
   "cell_type": "code",
   "execution_count": 194,
   "metadata": {},
   "outputs": [
    {
     "data": {
      "text/html": [
       "<div>\n",
       "<style scoped>\n",
       "    .dataframe tbody tr th:only-of-type {\n",
       "        vertical-align: middle;\n",
       "    }\n",
       "\n",
       "    .dataframe tbody tr th {\n",
       "        vertical-align: top;\n",
       "    }\n",
       "\n",
       "    .dataframe thead th {\n",
       "        text-align: right;\n",
       "    }\n",
       "</style>\n",
       "<table border=\"1\" class=\"dataframe\">\n",
       "  <thead>\n",
       "    <tr style=\"text-align: right;\">\n",
       "      <th>Default_On_Payment</th>\n",
       "      <th>0</th>\n",
       "      <th>1</th>\n",
       "    </tr>\n",
       "    <tr>\n",
       "      <th>Num_Dependents</th>\n",
       "      <th></th>\n",
       "      <th></th>\n",
       "    </tr>\n",
       "  </thead>\n",
       "  <tbody>\n",
       "    <tr>\n",
       "      <th>1</th>\n",
       "      <td>2960</td>\n",
       "      <td>1265</td>\n",
       "    </tr>\n",
       "    <tr>\n",
       "      <th>2</th>\n",
       "      <td>545</td>\n",
       "      <td>230</td>\n",
       "    </tr>\n",
       "  </tbody>\n",
       "</table>\n",
       "</div>"
      ],
      "text/plain": [
       "Default_On_Payment     0     1\n",
       "Num_Dependents                \n",
       "1                   2960  1265\n",
       "2                    545   230"
      ]
     },
     "execution_count": 194,
     "metadata": {},
     "output_type": "execute_result"
    }
   ],
   "source": [
    "pd.crosstab(data.Num_Dependents,data.Default_On_Payment)"
   ]
  },
  {
   "cell_type": "code",
   "execution_count": 195,
   "metadata": {},
   "outputs": [
    {
     "data": {
      "image/png": "[encoded data removed]",
      "text/plain": [
       "<Figure size 432x288 with 1 Axes>"
      ]
     },
     "metadata": {
      "needs_background": "light"
     },
     "output_type": "display_data"
    }
   ],
   "source": [
    "pd.crosstab(data.Num_Dependents,data.Default_On_Payment).plot(kind='bar')\n",
    "plt.title(' Frequency of Defaulters')\n",
    "plt.xlabel('Num_Dependents')\n",
    "plt.ylabel('Frequency of Defaults')\n",
    "plt.savefig('dflt_fre_job')\n",
    "plt.show()"
   ]
  },
  {
   "cell_type": "code",
   "execution_count": 196,
   "metadata": {},
   "outputs": [],
   "source": [
    "def get_Percent(col,df):\n",
    "    grps=df.groupby([col,'Default_On_Payment'])\n",
    "    df2 = pd.DataFrame()\n",
    "    \n",
    "    for name,group in grps:\n",
    "        df2.loc[name[0],name[1]] = len(group)\n",
    "        \n",
    "    df2['Percentage 0'] = df2[0]*100 / (df2[0] + df2[1])\n",
    "    df2['Percentage 1'] = df2[1]*100 / (df2[0] + df2[1])\n",
    "    print(df2.sort_values(by='Percentage 1'))\n"
   ]
  },
  {
   "cell_type": "code",
   "execution_count": 197,
   "metadata": {},
   "outputs": [
    {
     "name": "stdout",
     "output_type": "stream",
     "text": [
      "        0       1  Percentage 0  Percentage 1\n",
      "2   545.0   230.0     70.322581     29.677419\n",
      "1  2960.0  1265.0     70.059172     29.940828\n"
     ]
    }
   ],
   "source": [
    "cols = ['Num_Dependents']\n",
    "for col in cols:\n",
    "    get_Percent(col,df)"
   ]
  },
  {
   "cell_type": "code",
   "execution_count": 198,
   "metadata": {},
   "outputs": [
    {
     "data": {
      "text/plain": [
       "(5000, 17)"
      ]
     },
     "execution_count": 198,
     "metadata": {},
     "output_type": "execute_result"
    }
   ],
   "source": [
    "df.shape"
   ]
  },
  {
   "cell_type": "code",
   "execution_count": 199,
   "metadata": {},
   "outputs": [],
   "source": [
    "df = df.drop(['Customer_ID','Num_Dependents'],axis=1)"
   ]
  },
  {
   "cell_type": "code",
   "execution_count": 200,
   "metadata": {},
   "outputs": [
    {
     "data": {
      "text/plain": [
       "(5000, 15)"
      ]
     },
     "execution_count": 200,
     "metadata": {},
     "output_type": "execute_result"
    }
   ],
   "source": [
    "df.shape"
   ]
  },
  {
   "cell_type": "code",
   "execution_count": 201,
   "metadata": {},
   "outputs": [
    {
     "data": {
      "text/plain": [
       "array(['A172', 'A173', nan, 'A174', 'A171'], dtype=object)"
      ]
     },
     "execution_count": 201,
     "metadata": {},
     "output_type": "execute_result"
    }
   ],
   "source": [
    "df['Job_Status'].unique()"
   ]
  },
  {
   "cell_type": "code",
   "execution_count": 202,
   "metadata": {},
   "outputs": [
    {
     "data": {
      "text/plain": [
       "count     4988\n",
       "unique       4\n",
       "top       A173\n",
       "freq      3144\n",
       "Name: Job_Status, dtype: object"
      ]
     },
     "execution_count": 202,
     "metadata": {},
     "output_type": "execute_result"
    }
   ],
   "source": [
    "df['Job_Status'].describe()"
   ]
  },
  {
   "cell_type": "code",
   "execution_count": 203,
   "metadata": {},
   "outputs": [
    {
     "data": {
      "text/plain": [
       "12"
      ]
     },
     "execution_count": 203,
     "metadata": {},
     "output_type": "execute_result"
    }
   ],
   "source": [
    "df['Job_Status'].isnull().sum()"
   ]
  },
  {
   "cell_type": "code",
   "execution_count": 204,
   "metadata": {},
   "outputs": [
    {
     "name": "stdout",
     "output_type": "stream",
     "text": [
      "A173    3144\n",
      "A172     997\n",
      "A174     738\n",
      "A171     109\n",
      "Name: Job_Status, dtype: int64\n"
     ]
    }
   ],
   "source": [
    "print(df.Job_Status.value_counts())"
   ]
  },
  {
   "cell_type": "code",
   "execution_count": 205,
   "metadata": {},
   "outputs": [
    {
     "data": {
      "image/png": "[encoded data removed]",
      "text/plain": [
       "<Figure size 432x288 with 1 Axes>"
      ]
     },
     "metadata": {
      "needs_background": "light"
     },
     "output_type": "display_data"
    },
    {
     "data": {
      "text/plain": [
       "<Figure size 432x288 with 0 Axes>"
      ]
     },
     "metadata": {},
     "output_type": "display_data"
    }
   ],
   "source": [
    "sns.countplot(x='Job_Status',data=df, palette='hls')\n",
    "plt.show()\n",
    "plt.savefig('count_plot')"
   ]
  },
  {
   "cell_type": "code",
   "execution_count": 206,
   "metadata": {},
   "outputs": [
    {
     "data": {
      "text/plain": [
       "0    A173\n",
       "dtype: object"
      ]
     },
     "execution_count": 206,
     "metadata": {},
     "output_type": "execute_result"
    }
   ],
   "source": [
    "df['Job_Status'].mode()"
   ]
  },
  {
   "cell_type": "code",
   "execution_count": 207,
   "metadata": {},
   "outputs": [
    {
     "data": {
      "text/html": [
       "<div>\n",
       "<style scoped>\n",
       "    .dataframe tbody tr th:only-of-type {\n",
       "        vertical-align: middle;\n",
       "    }\n",
       "\n",
       "    .dataframe tbody tr th {\n",
       "        vertical-align: top;\n",
       "    }\n",
       "\n",
       "    .dataframe thead th {\n",
       "        text-align: right;\n",
       "    }\n",
       "</style>\n",
       "<table border=\"1\" class=\"dataframe\">\n",
       "  <thead>\n",
       "    <tr style=\"text-align: right;\">\n",
       "      <th>Default_On_Payment</th>\n",
       "      <th>0</th>\n",
       "      <th>1</th>\n",
       "    </tr>\n",
       "    <tr>\n",
       "      <th>Job_Status</th>\n",
       "      <th></th>\n",
       "      <th></th>\n",
       "    </tr>\n",
       "  </thead>\n",
       "  <tbody>\n",
       "    <tr>\n",
       "      <th>A171</th>\n",
       "      <td>74</td>\n",
       "      <td>35</td>\n",
       "    </tr>\n",
       "    <tr>\n",
       "      <th>A172</th>\n",
       "      <td>719</td>\n",
       "      <td>278</td>\n",
       "    </tr>\n",
       "    <tr>\n",
       "      <th>A173</th>\n",
       "      <td>2220</td>\n",
       "      <td>924</td>\n",
       "    </tr>\n",
       "    <tr>\n",
       "      <th>A174</th>\n",
       "      <td>484</td>\n",
       "      <td>254</td>\n",
       "    </tr>\n",
       "  </tbody>\n",
       "</table>\n",
       "</div>"
      ],
      "text/plain": [
       "Default_On_Payment     0    1\n",
       "Job_Status                   \n",
       "A171                  74   35\n",
       "A172                 719  278\n",
       "A173                2220  924\n",
       "A174                 484  254"
      ]
     },
     "execution_count": 207,
     "metadata": {},
     "output_type": "execute_result"
    }
   ],
   "source": [
    "pd.crosstab(data.Job_Status,data.Default_On_Payment)"
   ]
  },
  {
   "cell_type": "code",
   "execution_count": 208,
   "metadata": {},
   "outputs": [
    {
     "data": {
      "image/png": "[encoded data removed]",
      "text/plain": [
       "<Figure size 432x288 with 1 Axes>"
      ]
     },
     "metadata": {
      "needs_background": "light"
     },
     "output_type": "display_data"
    }
   ],
   "source": [
    "pd.crosstab(data.Job_Status, data.Default_On_Payment).plot(kind='bar')\n",
    "plt.title(' Frequency of Defaulters')\n",
    "plt.xlabel('Job_Status')\n",
    "plt.ylabel('Frequency of Defaults')\n",
    "plt.savefig('dflt_fre_job')\n",
    "plt.show()"
   ]
  },
  {
   "cell_type": "code",
   "execution_count": 209,
   "metadata": {},
   "outputs": [
    {
     "name": "stdout",
     "output_type": "stream",
     "text": [
      "           0      1  Percentage 0  Percentage 1\n",
      "A172   719.0  278.0     72.116349     27.883651\n",
      "A173  2220.0  924.0     70.610687     29.389313\n",
      "A171    74.0   35.0     67.889908     32.110092\n",
      "A174   484.0  254.0     65.582656     34.417344\n"
     ]
    }
   ],
   "source": [
    "cols = ['Job_Status']\n",
    "for col in cols:\n",
    "    get_Percent(col, df)"
   ]
  },
  {
   "cell_type": "code",
   "execution_count": 210,
   "metadata": {},
   "outputs": [
    {
     "data": {
      "text/plain": [
       "738"
      ]
     },
     "execution_count": 210,
     "metadata": {},
     "output_type": "execute_result"
    }
   ],
   "source": [
    "df.Job_Status[df.Job_Status=='A174'].count()"
   ]
  },
  {
   "cell_type": "code",
   "execution_count": 211,
   "metadata": {},
   "outputs": [
    {
     "data": {
      "text/plain": [
       "12"
      ]
     },
     "execution_count": 211,
     "metadata": {},
     "output_type": "execute_result"
    }
   ],
   "source": [
    "df.Job_Status.isnull().sum()"
   ]
  },
  {
   "cell_type": "code",
   "execution_count": 212,
   "metadata": {},
   "outputs": [],
   "source": [
    "df['Job_Status'].fillna('A174',inplace = True)"
   ]
  },
  {
   "cell_type": "code",
   "execution_count": 213,
   "metadata": {},
   "outputs": [
    {
     "data": {
      "text/plain": [
       "0"
      ]
     },
     "execution_count": 213,
     "metadata": {},
     "output_type": "execute_result"
    }
   ],
   "source": [
    "df.Job_Status.isnull().sum()"
   ]
  },
  {
   "cell_type": "code",
   "execution_count": 214,
   "metadata": {},
   "outputs": [
    {
     "data": {
      "text/plain": [
       "750"
      ]
     },
     "execution_count": 214,
     "metadata": {},
     "output_type": "execute_result"
    }
   ],
   "source": [
    "df.Job_Status[df.Job_Status=='A174'].count()"
   ]
  },
  {
   "cell_type": "code",
   "execution_count": 215,
   "metadata": {},
   "outputs": [
    {
     "data": {
      "text/html": [
       "<div>\n",
       "<style scoped>\n",
       "    .dataframe tbody tr th:only-of-type {\n",
       "        vertical-align: middle;\n",
       "    }\n",
       "\n",
       "    .dataframe tbody tr th {\n",
       "        vertical-align: top;\n",
       "    }\n",
       "\n",
       "    .dataframe thead th {\n",
       "        text-align: right;\n",
       "    }\n",
       "</style>\n",
       "<table border=\"1\" class=\"dataframe\">\n",
       "  <thead>\n",
       "    <tr style=\"text-align: right;\">\n",
       "      <th></th>\n",
       "      <th>Credit_Amount</th>\n",
       "      <th>Purpose_Credit_Taken</th>\n",
       "      <th>Duration_in_Months</th>\n",
       "      <th>Status_Checking_Accnt</th>\n",
       "      <th>Credit_History</th>\n",
       "      <th>Job_Status</th>\n",
       "      <th>Years_At_Present_Employment</th>\n",
       "      <th>Marital_Status_Gender</th>\n",
       "      <th>Other_Debtors_Guarantors</th>\n",
       "      <th>Current_Address_Yrs</th>\n",
       "      <th>Age</th>\n",
       "      <th>Housing</th>\n",
       "      <th>Num_Credits</th>\n",
       "      <th>Foreign_Worker</th>\n",
       "      <th>Default_On_Payment</th>\n",
       "    </tr>\n",
       "  </thead>\n",
       "  <tbody>\n",
       "    <tr>\n",
       "      <th>0</th>\n",
       "      <td>3939</td>\n",
       "      <td>P40</td>\n",
       "      <td>11</td>\n",
       "      <td>S11</td>\n",
       "      <td>A34</td>\n",
       "      <td>A172</td>\n",
       "      <td>E73</td>\n",
       "      <td>A93</td>\n",
       "      <td>A101</td>\n",
       "      <td>2</td>\n",
       "      <td>40</td>\n",
       "      <td>A152</td>\n",
       "      <td>2</td>\n",
       "      <td>A201</td>\n",
       "      <td>0</td>\n",
       "    </tr>\n",
       "    <tr>\n",
       "      <th>1</th>\n",
       "      <td>1795</td>\n",
       "      <td>P43</td>\n",
       "      <td>18</td>\n",
       "      <td>S12</td>\n",
       "      <td>A34</td>\n",
       "      <td>A172</td>\n",
       "      <td>E75</td>\n",
       "      <td>A92</td>\n",
       "      <td>A103</td>\n",
       "      <td>4</td>\n",
       "      <td>48</td>\n",
       "      <td>A151</td>\n",
       "      <td>2</td>\n",
       "      <td>A201</td>\n",
       "      <td>0</td>\n",
       "    </tr>\n",
       "    <tr>\n",
       "      <th>2</th>\n",
       "      <td>6143</td>\n",
       "      <td>P41</td>\n",
       "      <td>48</td>\n",
       "      <td>S11</td>\n",
       "      <td>A34</td>\n",
       "      <td>A172</td>\n",
       "      <td>E75</td>\n",
       "      <td>A92</td>\n",
       "      <td>A101</td>\n",
       "      <td>4</td>\n",
       "      <td>58</td>\n",
       "      <td>A153</td>\n",
       "      <td>2</td>\n",
       "      <td>A201</td>\n",
       "      <td>1</td>\n",
       "    </tr>\n",
       "    <tr>\n",
       "      <th>3</th>\n",
       "      <td>2675</td>\n",
       "      <td>P43</td>\n",
       "      <td>22</td>\n",
       "      <td>S14</td>\n",
       "      <td>A32</td>\n",
       "      <td>A173</td>\n",
       "      <td>E75</td>\n",
       "      <td>A93</td>\n",
       "      <td>A101</td>\n",
       "      <td>4</td>\n",
       "      <td>40</td>\n",
       "      <td>A152</td>\n",
       "      <td>1</td>\n",
       "      <td>A201</td>\n",
       "      <td>0</td>\n",
       "    </tr>\n",
       "    <tr>\n",
       "      <th>4</th>\n",
       "      <td>12389</td>\n",
       "      <td>P40</td>\n",
       "      <td>36</td>\n",
       "      <td>S12</td>\n",
       "      <td>A32</td>\n",
       "      <td>A174</td>\n",
       "      <td>E73</td>\n",
       "      <td>A93</td>\n",
       "      <td>A101</td>\n",
       "      <td>4</td>\n",
       "      <td>37</td>\n",
       "      <td>A153</td>\n",
       "      <td>1</td>\n",
       "      <td>A201</td>\n",
       "      <td>1</td>\n",
       "    </tr>\n",
       "  </tbody>\n",
       "</table>\n",
       "</div>"
      ],
      "text/plain": [
       "   Credit_Amount Purpose_Credit_Taken  Duration_in_Months  \\\n",
       "0           3939                  P40                  11   \n",
       "1           1795                  P43                  18   \n",
       "2           6143                  P41                  48   \n",
       "3           2675                  P43                  22   \n",
       "4          12389                  P40                  36   \n",
       "\n",
       "  Status_Checking_Accnt Credit_History Job_Status Years_At_Present_Employment  \\\n",
       "0                   S11            A34       A172                         E73   \n",
       "1                   S12            A34       A172                         E75   \n",
       "2                   S11            A34       A172                         E75   \n",
       "3                   S14            A32       A173                         E75   \n",
       "4                   S12            A32       A174                         E73   \n",
       "\n",
       "  Marital_Status_Gender Other_Debtors_Guarantors  Current_Address_Yrs  Age  \\\n",
       "0                   A93                     A101                    2   40   \n",
       "1                   A92                     A103                    4   48   \n",
       "2                   A92                     A101                    4   58   \n",
       "3                   A93                     A101                    4   40   \n",
       "4                   A93                     A101                    4   37   \n",
       "\n",
       "  Housing  Num_Credits Foreign_Worker  Default_On_Payment  \n",
       "0    A152            2           A201                   0  \n",
       "1    A151            2           A201                   0  \n",
       "2    A153            2           A201                   1  \n",
       "3    A152            1           A201                   0  \n",
       "4    A153            1           A201                   1  "
      ]
     },
     "execution_count": 215,
     "metadata": {},
     "output_type": "execute_result"
    }
   ],
   "source": [
    "df.head()"
   ]
  },
  {
   "cell_type": "code",
   "execution_count": 216,
   "metadata": {},
   "outputs": [
    {
     "data": {
      "text/plain": [
       "Credit_Amount                  0\n",
       "Purpose_Credit_Taken           0\n",
       "Duration_in_Months             0\n",
       "Status_Checking_Accnt          0\n",
       "Credit_History                 0\n",
       "Job_Status                     0\n",
       "Years_At_Present_Employment    0\n",
       "Marital_Status_Gender          0\n",
       "Other_Debtors_Guarantors       0\n",
       "Current_Address_Yrs            0\n",
       "Age                            0\n",
       "Housing                        0\n",
       "Num_Credits                    0\n",
       "Foreign_Worker                 0\n",
       "Default_On_Payment             0\n",
       "dtype: int64"
      ]
     },
     "execution_count": 216,
     "metadata": {},
     "output_type": "execute_result"
    }
   ],
   "source": [
    "df.isnull().sum()"
   ]
  },
  {
   "cell_type": "code",
   "execution_count": 217,
   "metadata": {},
   "outputs": [],
   "source": [
    "f1 = df['Job_Status']=='A171'\n",
    "f2 = df['Job_Status']=='A172'\n",
    "f3 = df['Job_Status']=='A173'"
   ]
  },
  {
   "cell_type": "code",
   "execution_count": 218,
   "metadata": {},
   "outputs": [
    {
     "name": "stdout",
     "output_type": "stream",
     "text": [
      "0        True\n",
      "1        True\n",
      "2        True\n",
      "3       False\n",
      "4       False\n",
      "        ...  \n",
      "4995    False\n",
      "4996     True\n",
      "4997    False\n",
      "4998    False\n",
      "4999    False\n",
      "Name: Job_Status, Length: 5000, dtype: bool\n"
     ]
    }
   ],
   "source": [
    "print(f2)"
   ]
  },
  {
   "cell_type": "code",
   "execution_count": 219,
   "metadata": {},
   "outputs": [
    {
     "name": "stdout",
     "output_type": "stream",
     "text": [
      "(5000, 15)\n"
     ]
    }
   ],
   "source": [
    "print(df.shape)"
   ]
  },
  {
   "cell_type": "code",
   "execution_count": 220,
   "metadata": {},
   "outputs": [],
   "source": [
    "df['Dummy_A171'] = np.where(f1, 1, 0)\n",
    "df['Dummy_A172'] = np.where(f2, 1, 0)\n",
    "df['Dummy_A173'] = np.where(f3, 1, 0)"
   ]
  },
  {
   "cell_type": "code",
   "execution_count": 221,
   "metadata": {},
   "outputs": [
    {
     "name": "stdout",
     "output_type": "stream",
     "text": [
      "(5000, 18)\n"
     ]
    }
   ],
   "source": [
    "print(df.shape)"
   ]
  },
  {
   "cell_type": "code",
   "execution_count": 222,
   "metadata": {},
   "outputs": [
    {
     "data": {
      "text/html": [
       "<div>\n",
       "<style scoped>\n",
       "    .dataframe tbody tr th:only-of-type {\n",
       "        vertical-align: middle;\n",
       "    }\n",
       "\n",
       "    .dataframe tbody tr th {\n",
       "        vertical-align: top;\n",
       "    }\n",
       "\n",
       "    .dataframe thead th {\n",
       "        text-align: right;\n",
       "    }\n",
       "</style>\n",
       "<table border=\"1\" class=\"dataframe\">\n",
       "  <thead>\n",
       "    <tr style=\"text-align: right;\">\n",
       "      <th></th>\n",
       "      <th>Credit_Amount</th>\n",
       "      <th>Purpose_Credit_Taken</th>\n",
       "      <th>Duration_in_Months</th>\n",
       "      <th>Status_Checking_Accnt</th>\n",
       "      <th>Credit_History</th>\n",
       "      <th>Years_At_Present_Employment</th>\n",
       "      <th>Marital_Status_Gender</th>\n",
       "      <th>Other_Debtors_Guarantors</th>\n",
       "      <th>Current_Address_Yrs</th>\n",
       "      <th>Age</th>\n",
       "      <th>Housing</th>\n",
       "      <th>Num_Credits</th>\n",
       "      <th>Foreign_Worker</th>\n",
       "      <th>Default_On_Payment</th>\n",
       "      <th>Dummy_A171</th>\n",
       "      <th>Dummy_A172</th>\n",
       "      <th>Dummy_A173</th>\n",
       "    </tr>\n",
       "  </thead>\n",
       "  <tbody>\n",
       "    <tr>\n",
       "      <th>0</th>\n",
       "      <td>3939</td>\n",
       "      <td>P40</td>\n",
       "      <td>11</td>\n",
       "      <td>S11</td>\n",
       "      <td>A34</td>\n",
       "      <td>E73</td>\n",
       "      <td>A93</td>\n",
       "      <td>A101</td>\n",
       "      <td>2</td>\n",
       "      <td>40</td>\n",
       "      <td>A152</td>\n",
       "      <td>2</td>\n",
       "      <td>A201</td>\n",
       "      <td>0</td>\n",
       "      <td>0</td>\n",
       "      <td>1</td>\n",
       "      <td>0</td>\n",
       "    </tr>\n",
       "    <tr>\n",
       "      <th>1</th>\n",
       "      <td>1795</td>\n",
       "      <td>P43</td>\n",
       "      <td>18</td>\n",
       "      <td>S12</td>\n",
       "      <td>A34</td>\n",
       "      <td>E75</td>\n",
       "      <td>A92</td>\n",
       "      <td>A103</td>\n",
       "      <td>4</td>\n",
       "      <td>48</td>\n",
       "      <td>A151</td>\n",
       "      <td>2</td>\n",
       "      <td>A201</td>\n",
       "      <td>0</td>\n",
       "      <td>0</td>\n",
       "      <td>1</td>\n",
       "      <td>0</td>\n",
       "    </tr>\n",
       "    <tr>\n",
       "      <th>2</th>\n",
       "      <td>6143</td>\n",
       "      <td>P41</td>\n",
       "      <td>48</td>\n",
       "      <td>S11</td>\n",
       "      <td>A34</td>\n",
       "      <td>E75</td>\n",
       "      <td>A92</td>\n",
       "      <td>A101</td>\n",
       "      <td>4</td>\n",
       "      <td>58</td>\n",
       "      <td>A153</td>\n",
       "      <td>2</td>\n",
       "      <td>A201</td>\n",
       "      <td>1</td>\n",
       "      <td>0</td>\n",
       "      <td>1</td>\n",
       "      <td>0</td>\n",
       "    </tr>\n",
       "    <tr>\n",
       "      <th>3</th>\n",
       "      <td>2675</td>\n",
       "      <td>P43</td>\n",
       "      <td>22</td>\n",
       "      <td>S14</td>\n",
       "      <td>A32</td>\n",
       "      <td>E75</td>\n",
       "      <td>A93</td>\n",
       "      <td>A101</td>\n",
       "      <td>4</td>\n",
       "      <td>40</td>\n",
       "      <td>A152</td>\n",
       "      <td>1</td>\n",
       "      <td>A201</td>\n",
       "      <td>0</td>\n",
       "      <td>0</td>\n",
       "      <td>0</td>\n",
       "      <td>1</td>\n",
       "    </tr>\n",
       "    <tr>\n",
       "      <th>4</th>\n",
       "      <td>12389</td>\n",
       "      <td>P40</td>\n",
       "      <td>36</td>\n",
       "      <td>S12</td>\n",
       "      <td>A32</td>\n",
       "      <td>E73</td>\n",
       "      <td>A93</td>\n",
       "      <td>A101</td>\n",
       "      <td>4</td>\n",
       "      <td>37</td>\n",
       "      <td>A153</td>\n",
       "      <td>1</td>\n",
       "      <td>A201</td>\n",
       "      <td>1</td>\n",
       "      <td>0</td>\n",
       "      <td>0</td>\n",
       "      <td>0</td>\n",
       "    </tr>\n",
       "    <tr>\n",
       "      <th>...</th>\n",
       "      <td>...</td>\n",
       "      <td>...</td>\n",
       "      <td>...</td>\n",
       "      <td>...</td>\n",
       "      <td>...</td>\n",
       "      <td>...</td>\n",
       "      <td>...</td>\n",
       "      <td>...</td>\n",
       "      <td>...</td>\n",
       "      <td>...</td>\n",
       "      <td>...</td>\n",
       "      <td>...</td>\n",
       "      <td>...</td>\n",
       "      <td>...</td>\n",
       "      <td>...</td>\n",
       "      <td>...</td>\n",
       "      <td>...</td>\n",
       "    </tr>\n",
       "    <tr>\n",
       "      <th>4995</th>\n",
       "      <td>5800</td>\n",
       "      <td>P41</td>\n",
       "      <td>36</td>\n",
       "      <td>S12</td>\n",
       "      <td>A34</td>\n",
       "      <td>E73</td>\n",
       "      <td>A93</td>\n",
       "      <td>A101</td>\n",
       "      <td>4</td>\n",
       "      <td>34</td>\n",
       "      <td>A152</td>\n",
       "      <td>2</td>\n",
       "      <td>A201</td>\n",
       "      <td>0</td>\n",
       "      <td>0</td>\n",
       "      <td>0</td>\n",
       "      <td>1</td>\n",
       "    </tr>\n",
       "    <tr>\n",
       "      <th>4996</th>\n",
       "      <td>7228</td>\n",
       "      <td>P40</td>\n",
       "      <td>11</td>\n",
       "      <td>S14</td>\n",
       "      <td>A34</td>\n",
       "      <td>E73</td>\n",
       "      <td>A93</td>\n",
       "      <td>A101</td>\n",
       "      <td>4</td>\n",
       "      <td>39</td>\n",
       "      <td>A152</td>\n",
       "      <td>2</td>\n",
       "      <td>A201</td>\n",
       "      <td>0</td>\n",
       "      <td>0</td>\n",
       "      <td>1</td>\n",
       "      <td>0</td>\n",
       "    </tr>\n",
       "    <tr>\n",
       "      <th>4997</th>\n",
       "      <td>3595</td>\n",
       "      <td>P43</td>\n",
       "      <td>36</td>\n",
       "      <td>S14</td>\n",
       "      <td>A32</td>\n",
       "      <td>E75</td>\n",
       "      <td>A93</td>\n",
       "      <td>A101</td>\n",
       "      <td>2</td>\n",
       "      <td>28</td>\n",
       "      <td>A152</td>\n",
       "      <td>1</td>\n",
       "      <td>A201</td>\n",
       "      <td>0</td>\n",
       "      <td>0</td>\n",
       "      <td>0</td>\n",
       "      <td>1</td>\n",
       "    </tr>\n",
       "    <tr>\n",
       "      <th>4998</th>\n",
       "      <td>2622</td>\n",
       "      <td>P49</td>\n",
       "      <td>18</td>\n",
       "      <td>S12</td>\n",
       "      <td>A32</td>\n",
       "      <td>E73</td>\n",
       "      <td>A93</td>\n",
       "      <td>A101</td>\n",
       "      <td>4</td>\n",
       "      <td>34</td>\n",
       "      <td>A152</td>\n",
       "      <td>1</td>\n",
       "      <td>A201</td>\n",
       "      <td>0</td>\n",
       "      <td>0</td>\n",
       "      <td>0</td>\n",
       "      <td>1</td>\n",
       "    </tr>\n",
       "    <tr>\n",
       "      <th>4999</th>\n",
       "      <td>2142</td>\n",
       "      <td>P49</td>\n",
       "      <td>11</td>\n",
       "      <td>S14</td>\n",
       "      <td>A32</td>\n",
       "      <td>E75</td>\n",
       "      <td>A91</td>\n",
       "      <td>A101</td>\n",
       "      <td>2</td>\n",
       "      <td>28</td>\n",
       "      <td>A152</td>\n",
       "      <td>1</td>\n",
       "      <td>A201</td>\n",
       "      <td>0</td>\n",
       "      <td>0</td>\n",
       "      <td>0</td>\n",
       "      <td>1</td>\n",
       "    </tr>\n",
       "  </tbody>\n",
       "</table>\n",
       "<p>5000 rows × 17 columns</p>\n",
       "</div>"
      ],
      "text/plain": [
       "      Credit_Amount Purpose_Credit_Taken  Duration_in_Months  \\\n",
       "0              3939                  P40                  11   \n",
       "1              1795                  P43                  18   \n",
       "2              6143                  P41                  48   \n",
       "3              2675                  P43                  22   \n",
       "4             12389                  P40                  36   \n",
       "...             ...                  ...                 ...   \n",
       "4995           5800                  P41                  36   \n",
       "4996           7228                  P40                  11   \n",
       "4997           3595                  P43                  36   \n",
       "4998           2622                  P49                  18   \n",
       "4999           2142                  P49                  11   \n",
       "\n",
       "     Status_Checking_Accnt Credit_History Years_At_Present_Employment  \\\n",
       "0                      S11            A34                         E73   \n",
       "1                      S12            A34                         E75   \n",
       "2                      S11            A34                         E75   \n",
       "3                      S14            A32                         E75   \n",
       "4                      S12            A32                         E73   \n",
       "...                    ...            ...                         ...   \n",
       "4995                   S12            A34                         E73   \n",
       "4996                   S14            A34                         E73   \n",
       "4997                   S14            A32                         E75   \n",
       "4998                   S12            A32                         E73   \n",
       "4999                   S14            A32                         E75   \n",
       "\n",
       "     Marital_Status_Gender Other_Debtors_Guarantors  Current_Address_Yrs  Age  \\\n",
       "0                      A93                     A101                    2   40   \n",
       "1                      A92                     A103                    4   48   \n",
       "2                      A92                     A101                    4   58   \n",
       "3                      A93                     A101                    4   40   \n",
       "4                      A93                     A101                    4   37   \n",
       "...                    ...                      ...                  ...  ...   \n",
       "4995                   A93                     A101                    4   34   \n",
       "4996                   A93                     A101                    4   39   \n",
       "4997                   A93                     A101                    2   28   \n",
       "4998                   A93                     A101                    4   34   \n",
       "4999                   A91                     A101                    2   28   \n",
       "\n",
       "     Housing  Num_Credits Foreign_Worker  Default_On_Payment  Dummy_A171  \\\n",
       "0       A152            2           A201                   0           0   \n",
       "1       A151            2           A201                   0           0   \n",
       "2       A153            2           A201                   1           0   \n",
       "3       A152            1           A201                   0           0   \n",
       "4       A153            1           A201                   1           0   \n",
       "...      ...          ...            ...                 ...         ...   \n",
       "4995    A152            2           A201                   0           0   \n",
       "4996    A152            2           A201                   0           0   \n",
       "4997    A152            1           A201                   0           0   \n",
       "4998    A152            1           A201                   0           0   \n",
       "4999    A152            1           A201                   0           0   \n",
       "\n",
       "      Dummy_A172  Dummy_A173  \n",
       "0              1           0  \n",
       "1              1           0  \n",
       "2              1           0  \n",
       "3              0           1  \n",
       "4              0           0  \n",
       "...          ...         ...  \n",
       "4995           0           1  \n",
       "4996           1           0  \n",
       "4997           0           1  \n",
       "4998           0           1  \n",
       "4999           0           1  \n",
       "\n",
       "[5000 rows x 17 columns]"
      ]
     },
     "execution_count": 222,
     "metadata": {},
     "output_type": "execute_result"
    }
   ],
   "source": [
    "df = df.drop(['Job_Status'],axis=1)\n",
    "df"
   ]
  },
  {
   "cell_type": "code",
   "execution_count": 72,
   "metadata": {},
   "outputs": [
    {
     "name": "stdout",
     "output_type": "stream",
     "text": [
      "          0      1  Percentage 0  Percentage 1\n",
      "P48    40.0    5.0     88.888889     11.111111\n",
      "P41   430.0   85.0     83.495146     16.504854\n",
      "P43  1095.0  305.0     78.214286     21.785714\n",
      "P42   615.0  290.0     67.955801     32.044199\n",
      "P44    40.0   20.0     66.666667     33.333333\n",
      "P49   315.0  170.0     64.948454     35.051546\n",
      "P45    70.0   40.0     63.636364     36.363636\n",
      "P40   725.0  445.0     61.965812     38.034188\n",
      "P50    35.0   25.0     58.333333     41.666667\n",
      "P46   140.0  110.0     56.000000     44.000000\n"
     ]
    }
   ],
   "source": [
    "cols = ['Purpose_Credit_Taken']\n",
    "for col in cols:\n",
    "    get_Percent(col, df)"
   ]
  },
  {
   "cell_type": "code",
   "execution_count": 223,
   "metadata": {},
   "outputs": [
    {
     "data": {
      "text/plain": [
       "9"
      ]
     },
     "execution_count": 223,
     "metadata": {},
     "output_type": "execute_result"
    }
   ],
   "source": [
    "cols = ['Purpose_Credit_Taken', 'Status_Checking_Accnt', 'Credit_History', 'Job_Status', \n",
    "        'Years_At_Present_Employment', 'Marital_Status_Gender', 'Other_Debtors_Guarantors', 'Housing', 'Foreign_Worker']\n",
    "len(cols)"
   ]
  },
  {
   "cell_type": "code",
   "execution_count": 224,
   "metadata": {},
   "outputs": [
    {
     "name": "stdout",
     "output_type": "stream",
     "text": [
      "P43    1400\n",
      "P40    1170\n",
      "P42     905\n",
      "P41     515\n",
      "P49     485\n",
      "P46     250\n",
      "P45     110\n",
      "P50      60\n",
      "P44      60\n",
      "P48      45\n",
      "Name: Purpose_Credit_Taken, dtype: int64 \n",
      "\n"
     ]
    }
   ],
   "source": [
    "print(df['Purpose_Credit_Taken'].value_counts(),'\\n')"
   ]
  },
  {
   "cell_type": "code",
   "execution_count": 225,
   "metadata": {},
   "outputs": [
    {
     "name": "stdout",
     "output_type": "stream",
     "text": [
      "  Type Set\n",
      "0    A   Z\n",
      "1    B   Z\n",
      "2    B   X\n",
      "3    C   Y\n"
     ]
    }
   ],
   "source": [
    "df2 = pd.DataFrame({'Type':list('ABBC'), 'Set':list('ZZXY')})\n",
    "print(df2)"
   ]
  },
  {
   "cell_type": "code",
   "execution_count": 76,
   "metadata": {},
   "outputs": [
    {
     "data": {
      "text/html": [
       "<div>\n",
       "<style scoped>\n",
       "    .dataframe tbody tr th:only-of-type {\n",
       "        vertical-align: middle;\n",
       "    }\n",
       "\n",
       "    .dataframe tbody tr th {\n",
       "        vertical-align: top;\n",
       "    }\n",
       "\n",
       "    .dataframe thead th {\n",
       "        text-align: right;\n",
       "    }\n",
       "</style>\n",
       "<table border=\"1\" class=\"dataframe\">\n",
       "  <thead>\n",
       "    <tr style=\"text-align: right;\">\n",
       "      <th></th>\n",
       "      <th>Type</th>\n",
       "      <th>Set</th>\n",
       "      <th>color</th>\n",
       "    </tr>\n",
       "  </thead>\n",
       "  <tbody>\n",
       "    <tr>\n",
       "      <th>0</th>\n",
       "      <td>A</td>\n",
       "      <td>Z</td>\n",
       "      <td>green</td>\n",
       "    </tr>\n",
       "    <tr>\n",
       "      <th>1</th>\n",
       "      <td>B</td>\n",
       "      <td>Z</td>\n",
       "      <td>green</td>\n",
       "    </tr>\n",
       "    <tr>\n",
       "      <th>2</th>\n",
       "      <td>B</td>\n",
       "      <td>X</td>\n",
       "      <td>red</td>\n",
       "    </tr>\n",
       "    <tr>\n",
       "      <th>3</th>\n",
       "      <td>C</td>\n",
       "      <td>Y</td>\n",
       "      <td>red</td>\n",
       "    </tr>\n",
       "  </tbody>\n",
       "</table>\n",
       "</div>"
      ],
      "text/plain": [
       "  Type Set  color\n",
       "0    A   Z  green\n",
       "1    B   Z  green\n",
       "2    B   X    red\n",
       "3    C   Y    red"
      ]
     },
     "execution_count": 76,
     "metadata": {},
     "output_type": "execute_result"
    }
   ],
   "source": [
    "df2['color'] = np.where(df2['Set']=='Z', 'green', 'red')\n",
    "df2"
   ]
  },
  {
   "cell_type": "code",
   "execution_count": 226,
   "metadata": {},
   "outputs": [
    {
     "name": "stdout",
     "output_type": "stream",
     "text": [
      "  Type Set\n",
      "0    A   Z\n",
      "1    B   Z\n",
      "2    B   X\n",
      "3    C   Y\n",
      "4    D   W\n",
      "5    D   W\n"
     ]
    }
   ],
   "source": [
    "model_data2 = pd.DataFrame({'Type':list('ABBCDD'), 'Set':list('ZZXYWW')})\n",
    "print(model_data2)"
   ]
  },
  {
   "cell_type": "code",
   "execution_count": 227,
   "metadata": {},
   "outputs": [],
   "source": [
    "f1 = model_data2['Set']=='Z'\n",
    "f2 = model_data2['Set']=='Y'\n",
    "f3 = model_data2['Set']=='X'"
   ]
  },
  {
   "cell_type": "code",
   "execution_count": 228,
   "metadata": {},
   "outputs": [
    {
     "data": {
      "text/html": [
       "<div>\n",
       "<style scoped>\n",
       "    .dataframe tbody tr th:only-of-type {\n",
       "        vertical-align: middle;\n",
       "    }\n",
       "\n",
       "    .dataframe tbody tr th {\n",
       "        vertical-align: top;\n",
       "    }\n",
       "\n",
       "    .dataframe thead th {\n",
       "        text-align: right;\n",
       "    }\n",
       "</style>\n",
       "<table border=\"1\" class=\"dataframe\">\n",
       "  <thead>\n",
       "    <tr style=\"text-align: right;\">\n",
       "      <th></th>\n",
       "      <th>Type</th>\n",
       "      <th>Set</th>\n",
       "      <th>color</th>\n",
       "    </tr>\n",
       "  </thead>\n",
       "  <tbody>\n",
       "    <tr>\n",
       "      <th>0</th>\n",
       "      <td>A</td>\n",
       "      <td>Z</td>\n",
       "      <td>green</td>\n",
       "    </tr>\n",
       "    <tr>\n",
       "      <th>1</th>\n",
       "      <td>B</td>\n",
       "      <td>Z</td>\n",
       "      <td>green</td>\n",
       "    </tr>\n",
       "    <tr>\n",
       "      <th>2</th>\n",
       "      <td>B</td>\n",
       "      <td>X</td>\n",
       "      <td>green</td>\n",
       "    </tr>\n",
       "    <tr>\n",
       "      <th>3</th>\n",
       "      <td>C</td>\n",
       "      <td>Y</td>\n",
       "      <td>green</td>\n",
       "    </tr>\n",
       "    <tr>\n",
       "      <th>4</th>\n",
       "      <td>D</td>\n",
       "      <td>W</td>\n",
       "      <td>red</td>\n",
       "    </tr>\n",
       "    <tr>\n",
       "      <th>5</th>\n",
       "      <td>D</td>\n",
       "      <td>W</td>\n",
       "      <td>red</td>\n",
       "    </tr>\n",
       "  </tbody>\n",
       "</table>\n",
       "</div>"
      ],
      "text/plain": [
       "  Type Set  color\n",
       "0    A   Z  green\n",
       "1    B   Z  green\n",
       "2    B   X  green\n",
       "3    C   Y  green\n",
       "4    D   W    red\n",
       "5    D   W    red"
      ]
     },
     "execution_count": 228,
     "metadata": {},
     "output_type": "execute_result"
    }
   ],
   "source": [
    "model_data2['color'] = np.where(np.logical_or(f1,np.logical_or(f2,f3)), 'green', 'red')\n",
    "model_data2"
   ]
  },
  {
   "cell_type": "code",
   "execution_count": 229,
   "metadata": {},
   "outputs": [
    {
     "data": {
      "text/html": [
       "<div>\n",
       "<style scoped>\n",
       "    .dataframe tbody tr th:only-of-type {\n",
       "        vertical-align: middle;\n",
       "    }\n",
       "\n",
       "    .dataframe tbody tr th {\n",
       "        vertical-align: top;\n",
       "    }\n",
       "\n",
       "    .dataframe thead th {\n",
       "        text-align: right;\n",
       "    }\n",
       "</style>\n",
       "<table border=\"1\" class=\"dataframe\">\n",
       "  <thead>\n",
       "    <tr style=\"text-align: right;\">\n",
       "      <th></th>\n",
       "      <th>Type</th>\n",
       "      <th>Set</th>\n",
       "      <th>color</th>\n",
       "      <th>color2</th>\n",
       "    </tr>\n",
       "  </thead>\n",
       "  <tbody>\n",
       "    <tr>\n",
       "      <th>0</th>\n",
       "      <td>A</td>\n",
       "      <td>Z</td>\n",
       "      <td>green</td>\n",
       "      <td>True</td>\n",
       "    </tr>\n",
       "    <tr>\n",
       "      <th>1</th>\n",
       "      <td>B</td>\n",
       "      <td>Z</td>\n",
       "      <td>green</td>\n",
       "      <td>True</td>\n",
       "    </tr>\n",
       "    <tr>\n",
       "      <th>2</th>\n",
       "      <td>B</td>\n",
       "      <td>X</td>\n",
       "      <td>green</td>\n",
       "      <td>True</td>\n",
       "    </tr>\n",
       "    <tr>\n",
       "      <th>3</th>\n",
       "      <td>C</td>\n",
       "      <td>Y</td>\n",
       "      <td>green</td>\n",
       "      <td>True</td>\n",
       "    </tr>\n",
       "    <tr>\n",
       "      <th>4</th>\n",
       "      <td>D</td>\n",
       "      <td>W</td>\n",
       "      <td>red</td>\n",
       "      <td>False</td>\n",
       "    </tr>\n",
       "    <tr>\n",
       "      <th>5</th>\n",
       "      <td>D</td>\n",
       "      <td>W</td>\n",
       "      <td>red</td>\n",
       "      <td>False</td>\n",
       "    </tr>\n",
       "  </tbody>\n",
       "</table>\n",
       "</div>"
      ],
      "text/plain": [
       "  Type Set  color  color2\n",
       "0    A   Z  green    True\n",
       "1    B   Z  green    True\n",
       "2    B   X  green    True\n",
       "3    C   Y  green    True\n",
       "4    D   W    red   False\n",
       "5    D   W    red   False"
      ]
     },
     "execution_count": 229,
     "metadata": {},
     "output_type": "execute_result"
    }
   ],
   "source": [
    "model_data2['color2'] = f1 | f2 | f3\n",
    "model_data2"
   ]
  },
  {
   "cell_type": "code",
   "execution_count": 230,
   "metadata": {},
   "outputs": [
    {
     "data": {
      "text/plain": [
       "LogisticRegression()"
      ]
     },
     "execution_count": 230,
     "metadata": {},
     "output_type": "execute_result"
    }
   ],
   "source": [
    "model_data_bkp = df\n",
    "model_data_bkp.head()\n",
    "model"
   ]
  },
  {
   "cell_type": "code",
   "execution_count": 231,
   "metadata": {},
   "outputs": [],
   "source": [
    "f1 = model_data_bkp['Purpose_Credit_Taken']=='P41'\n",
    "f2 = model_data_bkp['Purpose_Credit_Taken']=='P43'\n",
    "f3 = model_data_bkp['Purpose_Credit_Taken']=='P48'"
   ]
  },
  {
   "cell_type": "code",
   "execution_count": 232,
   "metadata": {},
   "outputs": [],
   "source": [
    "model_data_bkp['Dummy_Purpose_Credit_Taken_Low'] = np.where(np.logical_or(f1, np.logical_or(f2,f3)), 1, 0)"
   ]
  },
  {
   "cell_type": "code",
   "execution_count": 233,
   "metadata": {},
   "outputs": [
    {
     "name": "stdout",
     "output_type": "stream",
     "text": [
      "(5000, 18)\n"
     ]
    }
   ],
   "source": [
    "print(model_data_bkp.shape)"
   ]
  },
  {
   "cell_type": "code",
   "execution_count": 234,
   "metadata": {},
   "outputs": [
    {
     "data": {
      "text/html": [
       "<div>\n",
       "<style scoped>\n",
       "    .dataframe tbody tr th:only-of-type {\n",
       "        vertical-align: middle;\n",
       "    }\n",
       "\n",
       "    .dataframe tbody tr th {\n",
       "        vertical-align: top;\n",
       "    }\n",
       "\n",
       "    .dataframe thead th {\n",
       "        text-align: right;\n",
       "    }\n",
       "</style>\n",
       "<table border=\"1\" class=\"dataframe\">\n",
       "  <thead>\n",
       "    <tr style=\"text-align: right;\">\n",
       "      <th></th>\n",
       "      <th>Purpose_Credit_Taken</th>\n",
       "      <th>Dummy_Purpose_Credit_Taken_Low</th>\n",
       "    </tr>\n",
       "  </thead>\n",
       "  <tbody>\n",
       "    <tr>\n",
       "      <th>0</th>\n",
       "      <td>P40</td>\n",
       "      <td>0</td>\n",
       "    </tr>\n",
       "    <tr>\n",
       "      <th>1</th>\n",
       "      <td>P43</td>\n",
       "      <td>1</td>\n",
       "    </tr>\n",
       "    <tr>\n",
       "      <th>2</th>\n",
       "      <td>P41</td>\n",
       "      <td>1</td>\n",
       "    </tr>\n",
       "    <tr>\n",
       "      <th>3</th>\n",
       "      <td>P43</td>\n",
       "      <td>1</td>\n",
       "    </tr>\n",
       "    <tr>\n",
       "      <th>4</th>\n",
       "      <td>P40</td>\n",
       "      <td>0</td>\n",
       "    </tr>\n",
       "  </tbody>\n",
       "</table>\n",
       "</div>"
      ],
      "text/plain": [
       "  Purpose_Credit_Taken  Dummy_Purpose_Credit_Taken_Low\n",
       "0                  P40                               0\n",
       "1                  P43                               1\n",
       "2                  P41                               1\n",
       "3                  P43                               1\n",
       "4                  P40                               0"
      ]
     },
     "execution_count": 234,
     "metadata": {},
     "output_type": "execute_result"
    }
   ],
   "source": [
    "data_sbst1 = model_data_bkp[['Purpose_Credit_Taken','Dummy_Purpose_Credit_Taken_Low']]\n",
    "data_sbst1.head()"
   ]
  },
  {
   "cell_type": "code",
   "execution_count": 235,
   "metadata": {},
   "outputs": [],
   "source": [
    "f1 = model_data_bkp['Purpose_Credit_Taken']=='P49'\n",
    "f2 = model_data_bkp['Purpose_Credit_Taken']=='P40'\n",
    "f3 = model_data_bkp['Purpose_Credit_Taken']=='P45'\n",
    "f4 = model_data_bkp['Purpose_Credit_Taken']=='P50'\n",
    "f5 = model_data_bkp['Purpose_Credit_Taken']=='P46'"
   ]
  },
  {
   "cell_type": "code",
   "execution_count": 236,
   "metadata": {},
   "outputs": [],
   "source": [
    "model_data_bkp['Dummy_Purpose_Credit_Taken_High'] = np.where(\n",
    " np.logical_or(f1,\n",
    " np.logical_or(f2,\n",
    " np.logical_or(f3,\n",
    " np.logical_or(f4,f5)))), 1, 0)"
   ]
  },
  {
   "cell_type": "code",
   "execution_count": 237,
   "metadata": {},
   "outputs": [
    {
     "data": {
      "text/html": [
       "<div>\n",
       "<style scoped>\n",
       "    .dataframe tbody tr th:only-of-type {\n",
       "        vertical-align: middle;\n",
       "    }\n",
       "\n",
       "    .dataframe tbody tr th {\n",
       "        vertical-align: top;\n",
       "    }\n",
       "\n",
       "    .dataframe thead th {\n",
       "        text-align: right;\n",
       "    }\n",
       "</style>\n",
       "<table border=\"1\" class=\"dataframe\">\n",
       "  <thead>\n",
       "    <tr style=\"text-align: right;\">\n",
       "      <th></th>\n",
       "      <th>Credit_Amount</th>\n",
       "      <th>Purpose_Credit_Taken</th>\n",
       "      <th>Duration_in_Months</th>\n",
       "      <th>Status_Checking_Accnt</th>\n",
       "      <th>Credit_History</th>\n",
       "      <th>Years_At_Present_Employment</th>\n",
       "      <th>Marital_Status_Gender</th>\n",
       "      <th>Other_Debtors_Guarantors</th>\n",
       "      <th>Current_Address_Yrs</th>\n",
       "      <th>Age</th>\n",
       "      <th>Housing</th>\n",
       "      <th>Num_Credits</th>\n",
       "      <th>Foreign_Worker</th>\n",
       "      <th>Default_On_Payment</th>\n",
       "      <th>Dummy_A171</th>\n",
       "      <th>Dummy_A172</th>\n",
       "      <th>Dummy_A173</th>\n",
       "      <th>Dummy_Purpose_Credit_Taken_Low</th>\n",
       "      <th>Dummy_Purpose_Credit_Taken_High</th>\n",
       "    </tr>\n",
       "  </thead>\n",
       "  <tbody>\n",
       "    <tr>\n",
       "      <th>0</th>\n",
       "      <td>3939</td>\n",
       "      <td>P40</td>\n",
       "      <td>11</td>\n",
       "      <td>S11</td>\n",
       "      <td>A34</td>\n",
       "      <td>E73</td>\n",
       "      <td>A93</td>\n",
       "      <td>A101</td>\n",
       "      <td>2</td>\n",
       "      <td>40</td>\n",
       "      <td>A152</td>\n",
       "      <td>2</td>\n",
       "      <td>A201</td>\n",
       "      <td>0</td>\n",
       "      <td>0</td>\n",
       "      <td>1</td>\n",
       "      <td>0</td>\n",
       "      <td>0</td>\n",
       "      <td>1</td>\n",
       "    </tr>\n",
       "    <tr>\n",
       "      <th>1</th>\n",
       "      <td>1795</td>\n",
       "      <td>P43</td>\n",
       "      <td>18</td>\n",
       "      <td>S12</td>\n",
       "      <td>A34</td>\n",
       "      <td>E75</td>\n",
       "      <td>A92</td>\n",
       "      <td>A103</td>\n",
       "      <td>4</td>\n",
       "      <td>48</td>\n",
       "      <td>A151</td>\n",
       "      <td>2</td>\n",
       "      <td>A201</td>\n",
       "      <td>0</td>\n",
       "      <td>0</td>\n",
       "      <td>1</td>\n",
       "      <td>0</td>\n",
       "      <td>1</td>\n",
       "      <td>0</td>\n",
       "    </tr>\n",
       "    <tr>\n",
       "      <th>2</th>\n",
       "      <td>6143</td>\n",
       "      <td>P41</td>\n",
       "      <td>48</td>\n",
       "      <td>S11</td>\n",
       "      <td>A34</td>\n",
       "      <td>E75</td>\n",
       "      <td>A92</td>\n",
       "      <td>A101</td>\n",
       "      <td>4</td>\n",
       "      <td>58</td>\n",
       "      <td>A153</td>\n",
       "      <td>2</td>\n",
       "      <td>A201</td>\n",
       "      <td>1</td>\n",
       "      <td>0</td>\n",
       "      <td>1</td>\n",
       "      <td>0</td>\n",
       "      <td>1</td>\n",
       "      <td>0</td>\n",
       "    </tr>\n",
       "    <tr>\n",
       "      <th>3</th>\n",
       "      <td>2675</td>\n",
       "      <td>P43</td>\n",
       "      <td>22</td>\n",
       "      <td>S14</td>\n",
       "      <td>A32</td>\n",
       "      <td>E75</td>\n",
       "      <td>A93</td>\n",
       "      <td>A101</td>\n",
       "      <td>4</td>\n",
       "      <td>40</td>\n",
       "      <td>A152</td>\n",
       "      <td>1</td>\n",
       "      <td>A201</td>\n",
       "      <td>0</td>\n",
       "      <td>0</td>\n",
       "      <td>0</td>\n",
       "      <td>1</td>\n",
       "      <td>1</td>\n",
       "      <td>0</td>\n",
       "    </tr>\n",
       "    <tr>\n",
       "      <th>4</th>\n",
       "      <td>12389</td>\n",
       "      <td>P40</td>\n",
       "      <td>36</td>\n",
       "      <td>S12</td>\n",
       "      <td>A32</td>\n",
       "      <td>E73</td>\n",
       "      <td>A93</td>\n",
       "      <td>A101</td>\n",
       "      <td>4</td>\n",
       "      <td>37</td>\n",
       "      <td>A153</td>\n",
       "      <td>1</td>\n",
       "      <td>A201</td>\n",
       "      <td>1</td>\n",
       "      <td>0</td>\n",
       "      <td>0</td>\n",
       "      <td>0</td>\n",
       "      <td>0</td>\n",
       "      <td>1</td>\n",
       "    </tr>\n",
       "  </tbody>\n",
       "</table>\n",
       "</div>"
      ],
      "text/plain": [
       "   Credit_Amount Purpose_Credit_Taken  Duration_in_Months  \\\n",
       "0           3939                  P40                  11   \n",
       "1           1795                  P43                  18   \n",
       "2           6143                  P41                  48   \n",
       "3           2675                  P43                  22   \n",
       "4          12389                  P40                  36   \n",
       "\n",
       "  Status_Checking_Accnt Credit_History Years_At_Present_Employment  \\\n",
       "0                   S11            A34                         E73   \n",
       "1                   S12            A34                         E75   \n",
       "2                   S11            A34                         E75   \n",
       "3                   S14            A32                         E75   \n",
       "4                   S12            A32                         E73   \n",
       "\n",
       "  Marital_Status_Gender Other_Debtors_Guarantors  Current_Address_Yrs  Age  \\\n",
       "0                   A93                     A101                    2   40   \n",
       "1                   A92                     A103                    4   48   \n",
       "2                   A92                     A101                    4   58   \n",
       "3                   A93                     A101                    4   40   \n",
       "4                   A93                     A101                    4   37   \n",
       "\n",
       "  Housing  Num_Credits Foreign_Worker  Default_On_Payment  Dummy_A171  \\\n",
       "0    A152            2           A201                   0           0   \n",
       "1    A151            2           A201                   0           0   \n",
       "2    A153            2           A201                   1           0   \n",
       "3    A152            1           A201                   0           0   \n",
       "4    A153            1           A201                   1           0   \n",
       "\n",
       "   Dummy_A172  Dummy_A173  Dummy_Purpose_Credit_Taken_Low  \\\n",
       "0           1           0                               0   \n",
       "1           1           0                               1   \n",
       "2           1           0                               1   \n",
       "3           0           1                               1   \n",
       "4           0           0                               0   \n",
       "\n",
       "   Dummy_Purpose_Credit_Taken_High  \n",
       "0                                1  \n",
       "1                                0  \n",
       "2                                0  \n",
       "3                                0  \n",
       "4                                1  "
      ]
     },
     "execution_count": 237,
     "metadata": {},
     "output_type": "execute_result"
    }
   ],
   "source": [
    "model_data_bkp.head()\n",
    "#print(model_data_bkp.shape)"
   ]
  },
  {
   "cell_type": "code",
   "execution_count": 238,
   "metadata": {},
   "outputs": [
    {
     "data": {
      "text/html": [
       "<div>\n",
       "<style scoped>\n",
       "    .dataframe tbody tr th:only-of-type {\n",
       "        vertical-align: middle;\n",
       "    }\n",
       "\n",
       "    .dataframe tbody tr th {\n",
       "        vertical-align: top;\n",
       "    }\n",
       "\n",
       "    .dataframe thead th {\n",
       "        text-align: right;\n",
       "    }\n",
       "</style>\n",
       "<table border=\"1\" class=\"dataframe\">\n",
       "  <thead>\n",
       "    <tr style=\"text-align: right;\">\n",
       "      <th></th>\n",
       "      <th>Purpose_Credit_Taken</th>\n",
       "      <th>Dummy_Purpose_Credit_Taken_Low</th>\n",
       "      <th>Dummy_Purpose_Credit_Taken_High</th>\n",
       "    </tr>\n",
       "  </thead>\n",
       "  <tbody>\n",
       "    <tr>\n",
       "      <th>0</th>\n",
       "      <td>P40</td>\n",
       "      <td>0</td>\n",
       "      <td>1</td>\n",
       "    </tr>\n",
       "    <tr>\n",
       "      <th>1</th>\n",
       "      <td>P43</td>\n",
       "      <td>1</td>\n",
       "      <td>0</td>\n",
       "    </tr>\n",
       "    <tr>\n",
       "      <th>2</th>\n",
       "      <td>P41</td>\n",
       "      <td>1</td>\n",
       "      <td>0</td>\n",
       "    </tr>\n",
       "    <tr>\n",
       "      <th>3</th>\n",
       "      <td>P43</td>\n",
       "      <td>1</td>\n",
       "      <td>0</td>\n",
       "    </tr>\n",
       "    <tr>\n",
       "      <th>4</th>\n",
       "      <td>P40</td>\n",
       "      <td>0</td>\n",
       "      <td>1</td>\n",
       "    </tr>\n",
       "  </tbody>\n",
       "</table>\n",
       "</div>"
      ],
      "text/plain": [
       "  Purpose_Credit_Taken  Dummy_Purpose_Credit_Taken_Low  \\\n",
       "0                  P40                               0   \n",
       "1                  P43                               1   \n",
       "2                  P41                               1   \n",
       "3                  P43                               1   \n",
       "4                  P40                               0   \n",
       "\n",
       "   Dummy_Purpose_Credit_Taken_High  \n",
       "0                                1  \n",
       "1                                0  \n",
       "2                                0  \n",
       "3                                0  \n",
       "4                                1  "
      ]
     },
     "execution_count": 238,
     "metadata": {},
     "output_type": "execute_result"
    }
   ],
   "source": [
    "data_sbst2 = model_data_bkp[['Purpose_Credit_Taken', 'Dummy_Purpose_Credit_Taken_Low', 'Dummy_Purpose_Credit_Taken_High']]\n",
    "data_sbst2.head()"
   ]
  },
  {
   "cell_type": "code",
   "execution_count": 239,
   "metadata": {},
   "outputs": [],
   "source": [
    "model_data_bkp = model_data_bkp.drop(['Purpose_Credit_Taken'],axis=1)"
   ]
  },
  {
   "cell_type": "code",
   "execution_count": 240,
   "metadata": {},
   "outputs": [
    {
     "data": {
      "text/plain": [
       "(5000, 18)"
      ]
     },
     "execution_count": 240,
     "metadata": {},
     "output_type": "execute_result"
    }
   ],
   "source": [
    "model_data_bkp.shape"
   ]
  },
  {
   "cell_type": "code",
   "execution_count": 241,
   "metadata": {},
   "outputs": [],
   "source": [
    "ages = [20, 22, 25, 27, 21, 23, 37, 31, 61, 45, 41, 32]\n",
    "# We'll divide the ages into bins such as 18-25, 26-35,36-60 and 60 and above."
   ]
  },
  {
   "cell_type": "code",
   "execution_count": 242,
   "metadata": {},
   "outputs": [],
   "source": [
    "# Understand the output - '(' means the value is included in the bin, '[' means the value is excluded\n",
    "bins = [18, 25, 35, 60, 100]"
   ]
  },
  {
   "cell_type": "code",
   "execution_count": 243,
   "metadata": {},
   "outputs": [
    {
     "data": {
      "text/plain": [
       "[(18, 25], (18, 25], (18, 25], (25, 35], (18, 25], ..., (25, 35], (60, 100], (35, 60], (35, 60], (25, 35]]\n",
       "Length: 12\n",
       "Categories (4, interval[int64]): [(18, 25] < (25, 35] < (35, 60] < (60, 100]]"
      ]
     },
     "execution_count": 243,
     "metadata": {},
     "output_type": "execute_result"
    }
   ],
   "source": [
    "cats = pd.cut(ages, bins)\n",
    "cats"
   ]
  },
  {
   "cell_type": "code",
   "execution_count": 244,
   "metadata": {},
   "outputs": [
    {
     "data": {
      "text/plain": [
       "pandas.core.arrays.categorical.Categorical"
      ]
     },
     "execution_count": 244,
     "metadata": {},
     "output_type": "execute_result"
    }
   ],
   "source": [
    "type(cats)"
   ]
  },
  {
   "cell_type": "code",
   "execution_count": 245,
   "metadata": {},
   "outputs": [
    {
     "data": {
      "text/plain": [
       "Interval(18, 25, closed='right')"
      ]
     },
     "execution_count": 245,
     "metadata": {},
     "output_type": "execute_result"
    }
   ],
   "source": [
    "cats[0]"
   ]
  },
  {
   "cell_type": "code",
   "execution_count": 246,
   "metadata": {},
   "outputs": [
    {
     "data": {
      "text/plain": [
       "[[18, 25), [18, 25), [25, 35), [25, 35), [18, 25), ..., [25, 35), [60, 100), [35, 60), [35, 60), [25, 35)]\n",
       "Length: 12\n",
       "Categories (4, interval[int64]): [[18, 25) < [25, 35) < [35, 60) < [60, 100)]"
      ]
     },
     "execution_count": 246,
     "metadata": {},
     "output_type": "execute_result"
    }
   ],
   "source": [
    "#To include the right bin value, we can do:\n",
    "pd.cut(ages, bins, right=False)"
   ]
  },
  {
   "cell_type": "code",
   "execution_count": 247,
   "metadata": {},
   "outputs": [],
   "source": [
    "bins = [0,30,50,100]"
   ]
  },
  {
   "cell_type": "code",
   "execution_count": 248,
   "metadata": {},
   "outputs": [],
   "source": [
    "ages = model_data_bkp.Age"
   ]
  },
  {
   "cell_type": "code",
   "execution_count": 249,
   "metadata": {},
   "outputs": [
    {
     "data": {
      "text/plain": [
       "0        (30, 50]\n",
       "1        (30, 50]\n",
       "2       (50, 100]\n",
       "3        (30, 50]\n",
       "4        (30, 50]\n",
       "          ...    \n",
       "4995     (30, 50]\n",
       "4996     (30, 50]\n",
       "4997      (0, 30]\n",
       "4998     (30, 50]\n",
       "4999      (0, 30]\n",
       "Name: Age, Length: 5000, dtype: category\n",
       "Categories (3, interval[int64]): [(0, 30] < (30, 50] < (50, 100]]"
      ]
     },
     "execution_count": 249,
     "metadata": {},
     "output_type": "execute_result"
    }
   ],
   "source": [
    "pd.cut(ages, bins, right=True)"
   ]
  },
  {
   "cell_type": "code",
   "execution_count": 250,
   "metadata": {},
   "outputs": [
    {
     "data": {
      "text/html": [
       "<div>\n",
       "<style scoped>\n",
       "    .dataframe tbody tr th:only-of-type {\n",
       "        vertical-align: middle;\n",
       "    }\n",
       "\n",
       "    .dataframe tbody tr th {\n",
       "        vertical-align: top;\n",
       "    }\n",
       "\n",
       "    .dataframe thead th {\n",
       "        text-align: right;\n",
       "    }\n",
       "</style>\n",
       "<table border=\"1\" class=\"dataframe\">\n",
       "  <thead>\n",
       "    <tr style=\"text-align: right;\">\n",
       "      <th>Default_On_Payment</th>\n",
       "      <th>0</th>\n",
       "      <th>1</th>\n",
       "    </tr>\n",
       "    <tr>\n",
       "      <th>Age</th>\n",
       "      <th></th>\n",
       "      <th></th>\n",
       "    </tr>\n",
       "  </thead>\n",
       "  <tbody>\n",
       "    <tr>\n",
       "      <th>19</th>\n",
       "      <td>5</td>\n",
       "      <td>5</td>\n",
       "    </tr>\n",
       "    <tr>\n",
       "      <th>20</th>\n",
       "      <td>45</td>\n",
       "      <td>25</td>\n",
       "    </tr>\n",
       "    <tr>\n",
       "      <th>21</th>\n",
       "      <td>45</td>\n",
       "      <td>25</td>\n",
       "    </tr>\n",
       "    <tr>\n",
       "      <th>22</th>\n",
       "      <td>85</td>\n",
       "      <td>50</td>\n",
       "    </tr>\n",
       "    <tr>\n",
       "      <th>23</th>\n",
       "      <td>140</td>\n",
       "      <td>100</td>\n",
       "    </tr>\n",
       "    <tr>\n",
       "      <th>24</th>\n",
       "      <td>125</td>\n",
       "      <td>95</td>\n",
       "    </tr>\n",
       "    <tr>\n",
       "      <th>25</th>\n",
       "      <td>110</td>\n",
       "      <td>95</td>\n",
       "    </tr>\n",
       "    <tr>\n",
       "      <th>26</th>\n",
       "      <td>180</td>\n",
       "      <td>70</td>\n",
       "    </tr>\n",
       "    <tr>\n",
       "      <th>27</th>\n",
       "      <td>190</td>\n",
       "      <td>65</td>\n",
       "    </tr>\n",
       "    <tr>\n",
       "      <th>28</th>\n",
       "      <td>140</td>\n",
       "      <td>75</td>\n",
       "    </tr>\n",
       "    <tr>\n",
       "      <th>29</th>\n",
       "      <td>110</td>\n",
       "      <td>75</td>\n",
       "    </tr>\n",
       "    <tr>\n",
       "      <th>30</th>\n",
       "      <td>145</td>\n",
       "      <td>55</td>\n",
       "    </tr>\n",
       "    <tr>\n",
       "      <th>31</th>\n",
       "      <td>135</td>\n",
       "      <td>55</td>\n",
       "    </tr>\n",
       "    <tr>\n",
       "      <th>32</th>\n",
       "      <td>125</td>\n",
       "      <td>45</td>\n",
       "    </tr>\n",
       "    <tr>\n",
       "      <th>33</th>\n",
       "      <td>100</td>\n",
       "      <td>65</td>\n",
       "    </tr>\n",
       "    <tr>\n",
       "      <th>34</th>\n",
       "      <td>105</td>\n",
       "      <td>55</td>\n",
       "    </tr>\n",
       "    <tr>\n",
       "      <th>35</th>\n",
       "      <td>170</td>\n",
       "      <td>30</td>\n",
       "    </tr>\n",
       "    <tr>\n",
       "      <th>36</th>\n",
       "      <td>165</td>\n",
       "      <td>30</td>\n",
       "    </tr>\n",
       "    <tr>\n",
       "      <th>37</th>\n",
       "      <td>105</td>\n",
       "      <td>40</td>\n",
       "    </tr>\n",
       "    <tr>\n",
       "      <th>38</th>\n",
       "      <td>100</td>\n",
       "      <td>20</td>\n",
       "    </tr>\n",
       "    <tr>\n",
       "      <th>39</th>\n",
       "      <td>75</td>\n",
       "      <td>30</td>\n",
       "    </tr>\n",
       "    <tr>\n",
       "      <th>40</th>\n",
       "      <td>95</td>\n",
       "      <td>30</td>\n",
       "    </tr>\n",
       "    <tr>\n",
       "      <th>41</th>\n",
       "      <td>65</td>\n",
       "      <td>20</td>\n",
       "    </tr>\n",
       "    <tr>\n",
       "      <th>42</th>\n",
       "      <td>70</td>\n",
       "      <td>40</td>\n",
       "    </tr>\n",
       "    <tr>\n",
       "      <th>43</th>\n",
       "      <td>60</td>\n",
       "      <td>25</td>\n",
       "    </tr>\n",
       "    <tr>\n",
       "      <th>44</th>\n",
       "      <td>60</td>\n",
       "      <td>25</td>\n",
       "    </tr>\n",
       "    <tr>\n",
       "      <th>45</th>\n",
       "      <td>60</td>\n",
       "      <td>15</td>\n",
       "    </tr>\n",
       "    <tr>\n",
       "      <th>46</th>\n",
       "      <td>70</td>\n",
       "      <td>20</td>\n",
       "    </tr>\n",
       "    <tr>\n",
       "      <th>47</th>\n",
       "      <td>60</td>\n",
       "      <td>25</td>\n",
       "    </tr>\n",
       "    <tr>\n",
       "      <th>48</th>\n",
       "      <td>45</td>\n",
       "      <td>15</td>\n",
       "    </tr>\n",
       "    <tr>\n",
       "      <th>49</th>\n",
       "      <td>65</td>\n",
       "      <td>5</td>\n",
       "    </tr>\n",
       "    <tr>\n",
       "      <th>50</th>\n",
       "      <td>45</td>\n",
       "      <td>15</td>\n",
       "    </tr>\n",
       "    <tr>\n",
       "      <th>51</th>\n",
       "      <td>35</td>\n",
       "      <td>5</td>\n",
       "    </tr>\n",
       "    <tr>\n",
       "      <th>52</th>\n",
       "      <td>40</td>\n",
       "      <td>5</td>\n",
       "    </tr>\n",
       "    <tr>\n",
       "      <th>53</th>\n",
       "      <td>10</td>\n",
       "      <td>25</td>\n",
       "    </tr>\n",
       "    <tr>\n",
       "      <th>54</th>\n",
       "      <td>40</td>\n",
       "      <td>10</td>\n",
       "    </tr>\n",
       "    <tr>\n",
       "      <th>55</th>\n",
       "      <td>25</td>\n",
       "      <td>15</td>\n",
       "    </tr>\n",
       "    <tr>\n",
       "      <th>56</th>\n",
       "      <td>15</td>\n",
       "      <td>0</td>\n",
       "    </tr>\n",
       "    <tr>\n",
       "      <th>57</th>\n",
       "      <td>30</td>\n",
       "      <td>15</td>\n",
       "    </tr>\n",
       "    <tr>\n",
       "      <th>58</th>\n",
       "      <td>15</td>\n",
       "      <td>10</td>\n",
       "    </tr>\n",
       "    <tr>\n",
       "      <th>59</th>\n",
       "      <td>10</td>\n",
       "      <td>5</td>\n",
       "    </tr>\n",
       "    <tr>\n",
       "      <th>60</th>\n",
       "      <td>15</td>\n",
       "      <td>15</td>\n",
       "    </tr>\n",
       "    <tr>\n",
       "      <th>61</th>\n",
       "      <td>20</td>\n",
       "      <td>14</td>\n",
       "    </tr>\n",
       "    <tr>\n",
       "      <th>62</th>\n",
       "      <td>10</td>\n",
       "      <td>0</td>\n",
       "    </tr>\n",
       "    <tr>\n",
       "      <th>63</th>\n",
       "      <td>35</td>\n",
       "      <td>5</td>\n",
       "    </tr>\n",
       "    <tr>\n",
       "      <th>64</th>\n",
       "      <td>25</td>\n",
       "      <td>0</td>\n",
       "    </tr>\n",
       "    <tr>\n",
       "      <th>65</th>\n",
       "      <td>20</td>\n",
       "      <td>5</td>\n",
       "    </tr>\n",
       "    <tr>\n",
       "      <th>66</th>\n",
       "      <td>15</td>\n",
       "      <td>10</td>\n",
       "    </tr>\n",
       "    <tr>\n",
       "      <th>67</th>\n",
       "      <td>15</td>\n",
       "      <td>0</td>\n",
       "    </tr>\n",
       "    <tr>\n",
       "      <th>68</th>\n",
       "      <td>5</td>\n",
       "      <td>10</td>\n",
       "    </tr>\n",
       "    <tr>\n",
       "      <th>70</th>\n",
       "      <td>5</td>\n",
       "      <td>0</td>\n",
       "    </tr>\n",
       "    <tr>\n",
       "      <th>74</th>\n",
       "      <td>15</td>\n",
       "      <td>5</td>\n",
       "    </tr>\n",
       "    <tr>\n",
       "      <th>75</th>\n",
       "      <td>10</td>\n",
       "      <td>1</td>\n",
       "    </tr>\n",
       "  </tbody>\n",
       "</table>\n",
       "</div>"
      ],
      "text/plain": [
       "Default_On_Payment    0    1\n",
       "Age                         \n",
       "19                    5    5\n",
       "20                   45   25\n",
       "21                   45   25\n",
       "22                   85   50\n",
       "23                  140  100\n",
       "24                  125   95\n",
       "25                  110   95\n",
       "26                  180   70\n",
       "27                  190   65\n",
       "28                  140   75\n",
       "29                  110   75\n",
       "30                  145   55\n",
       "31                  135   55\n",
       "32                  125   45\n",
       "33                  100   65\n",
       "34                  105   55\n",
       "35                  170   30\n",
       "36                  165   30\n",
       "37                  105   40\n",
       "38                  100   20\n",
       "39                   75   30\n",
       "40                   95   30\n",
       "41                   65   20\n",
       "42                   70   40\n",
       "43                   60   25\n",
       "44                   60   25\n",
       "45                   60   15\n",
       "46                   70   20\n",
       "47                   60   25\n",
       "48                   45   15\n",
       "49                   65    5\n",
       "50                   45   15\n",
       "51                   35    5\n",
       "52                   40    5\n",
       "53                   10   25\n",
       "54                   40   10\n",
       "55                   25   15\n",
       "56                   15    0\n",
       "57                   30   15\n",
       "58                   15   10\n",
       "59                   10    5\n",
       "60                   15   15\n",
       "61                   20   14\n",
       "62                   10    0\n",
       "63                   35    5\n",
       "64                   25    0\n",
       "65                   20    5\n",
       "66                   15   10\n",
       "67                   15    0\n",
       "68                    5   10\n",
       "70                    5    0\n",
       "74                   15    5\n",
       "75                   10    1"
      ]
     },
     "execution_count": 250,
     "metadata": {},
     "output_type": "execute_result"
    }
   ],
   "source": [
    "pd.crosstab(data.Age, data.Default_On_Payment)"
   ]
  },
  {
   "cell_type": "code",
   "execution_count": 251,
   "metadata": {},
   "outputs": [
    {
     "data": {
      "image/png": "[encoded data removed]",
      "text/plain": [
       "<Figure size 432x288 with 1 Axes>"
      ]
     },
     "metadata": {
      "needs_background": "light"
     },
     "output_type": "display_data"
    }
   ],
   "source": [
    "pd.crosstab(data.Age, data.Default_On_Payment).plot(kind='bar') \n",
    "plt.title(' Frequency of Defaulters')\n",
    "plt.xlabel('Age')\n",
    "plt.ylabel('Frequency of Defaults')\n",
    "plt.savefig('dflt_fre_job')\n",
    "plt.show()"
   ]
  },
  {
   "cell_type": "code",
   "execution_count": 252,
   "metadata": {},
   "outputs": [],
   "source": [
    "ages = pd.DataFrame([81, 42, 18, 55, 23, 35], columns=['age'])\n",
    "bins = [18, 30, 40, 50, 60, 70, 120]\n",
    "labels = ['18-29', '30-39', '40-49', '50-59', '60-69', '70+']\n",
    "ages['agerange'] = pd.cut(ages.age, bins, labels = labels, include_lowest = True)"
   ]
  },
  {
   "cell_type": "code",
   "execution_count": 253,
   "metadata": {},
   "outputs": [
    {
     "data": {
      "text/html": [
       "<div>\n",
       "<style scoped>\n",
       "    .dataframe tbody tr th:only-of-type {\n",
       "        vertical-align: middle;\n",
       "    }\n",
       "\n",
       "    .dataframe tbody tr th {\n",
       "        vertical-align: top;\n",
       "    }\n",
       "\n",
       "    .dataframe thead th {\n",
       "        text-align: right;\n",
       "    }\n",
       "</style>\n",
       "<table border=\"1\" class=\"dataframe\">\n",
       "  <thead>\n",
       "    <tr style=\"text-align: right;\">\n",
       "      <th></th>\n",
       "      <th>age</th>\n",
       "      <th>agerange</th>\n",
       "    </tr>\n",
       "  </thead>\n",
       "  <tbody>\n",
       "    <tr>\n",
       "      <th>0</th>\n",
       "      <td>81</td>\n",
       "      <td>70+</td>\n",
       "    </tr>\n",
       "    <tr>\n",
       "      <th>1</th>\n",
       "      <td>42</td>\n",
       "      <td>40-49</td>\n",
       "    </tr>\n",
       "    <tr>\n",
       "      <th>2</th>\n",
       "      <td>18</td>\n",
       "      <td>18-29</td>\n",
       "    </tr>\n",
       "    <tr>\n",
       "      <th>3</th>\n",
       "      <td>55</td>\n",
       "      <td>50-59</td>\n",
       "    </tr>\n",
       "    <tr>\n",
       "      <th>4</th>\n",
       "      <td>23</td>\n",
       "      <td>18-29</td>\n",
       "    </tr>\n",
       "    <tr>\n",
       "      <th>5</th>\n",
       "      <td>35</td>\n",
       "      <td>30-39</td>\n",
       "    </tr>\n",
       "  </tbody>\n",
       "</table>\n",
       "</div>"
      ],
      "text/plain": [
       "   age agerange\n",
       "0   81      70+\n",
       "1   42    40-49\n",
       "2   18    18-29\n",
       "3   55    50-59\n",
       "4   23    18-29\n",
       "5   35    30-39"
      ]
     },
     "execution_count": 253,
     "metadata": {},
     "output_type": "execute_result"
    }
   ],
   "source": [
    "ages"
   ]
  },
  {
   "cell_type": "code",
   "execution_count": 254,
   "metadata": {},
   "outputs": [
    {
     "data": {
      "text/html": [
       "<div>\n",
       "<style scoped>\n",
       "    .dataframe tbody tr th:only-of-type {\n",
       "        vertical-align: middle;\n",
       "    }\n",
       "\n",
       "    .dataframe tbody tr th {\n",
       "        vertical-align: top;\n",
       "    }\n",
       "\n",
       "    .dataframe thead th {\n",
       "        text-align: right;\n",
       "    }\n",
       "</style>\n",
       "<table border=\"1\" class=\"dataframe\">\n",
       "  <thead>\n",
       "    <tr style=\"text-align: right;\">\n",
       "      <th></th>\n",
       "      <th>Age</th>\n",
       "    </tr>\n",
       "  </thead>\n",
       "  <tbody>\n",
       "    <tr>\n",
       "      <th>0</th>\n",
       "      <td>40</td>\n",
       "    </tr>\n",
       "    <tr>\n",
       "      <th>1</th>\n",
       "      <td>48</td>\n",
       "    </tr>\n",
       "    <tr>\n",
       "      <th>2</th>\n",
       "      <td>58</td>\n",
       "    </tr>\n",
       "    <tr>\n",
       "      <th>3</th>\n",
       "      <td>40</td>\n",
       "    </tr>\n",
       "    <tr>\n",
       "      <th>4</th>\n",
       "      <td>37</td>\n",
       "    </tr>\n",
       "  </tbody>\n",
       "</table>\n",
       "</div>"
      ],
      "text/plain": [
       "   Age\n",
       "0   40\n",
       "1   48\n",
       "2   58\n",
       "3   40\n",
       "4   37"
      ]
     },
     "execution_count": 254,
     "metadata": {},
     "output_type": "execute_result"
    }
   ],
   "source": [
    "model_data_bkp[['Age']].head()"
   ]
  },
  {
   "cell_type": "code",
   "execution_count": 255,
   "metadata": {},
   "outputs": [],
   "source": [
    "model_data_bkp2 = model_data_bkp"
   ]
  },
  {
   "cell_type": "code",
   "execution_count": 256,
   "metadata": {},
   "outputs": [],
   "source": [
    "bins = [0,30,100]"
   ]
  },
  {
   "cell_type": "code",
   "execution_count": 257,
   "metadata": {},
   "outputs": [],
   "source": [
    "ages = model_data_bkp.Age"
   ]
  },
  {
   "cell_type": "code",
   "execution_count": 258,
   "metadata": {},
   "outputs": [],
   "source": [
    "lbls = [1,0]"
   ]
  },
  {
   "cell_type": "code",
   "execution_count": 259,
   "metadata": {},
   "outputs": [],
   "source": [
    "model_data_bkp['Dummy_Age_Group'] = pd.cut(ages, labels=lbls, bins=bins)"
   ]
  },
  {
   "cell_type": "code",
   "execution_count": 260,
   "metadata": {},
   "outputs": [
    {
     "data": {
      "text/html": [
       "<div>\n",
       "<style scoped>\n",
       "    .dataframe tbody tr th:only-of-type {\n",
       "        vertical-align: middle;\n",
       "    }\n",
       "\n",
       "    .dataframe tbody tr th {\n",
       "        vertical-align: top;\n",
       "    }\n",
       "\n",
       "    .dataframe thead th {\n",
       "        text-align: right;\n",
       "    }\n",
       "</style>\n",
       "<table border=\"1\" class=\"dataframe\">\n",
       "  <thead>\n",
       "    <tr style=\"text-align: right;\">\n",
       "      <th></th>\n",
       "      <th>Credit_Amount</th>\n",
       "      <th>Duration_in_Months</th>\n",
       "      <th>Status_Checking_Accnt</th>\n",
       "      <th>Credit_History</th>\n",
       "      <th>Years_At_Present_Employment</th>\n",
       "      <th>Marital_Status_Gender</th>\n",
       "      <th>Other_Debtors_Guarantors</th>\n",
       "      <th>Current_Address_Yrs</th>\n",
       "      <th>Age</th>\n",
       "      <th>Housing</th>\n",
       "      <th>Num_Credits</th>\n",
       "      <th>Foreign_Worker</th>\n",
       "      <th>Default_On_Payment</th>\n",
       "      <th>Dummy_A171</th>\n",
       "      <th>Dummy_A172</th>\n",
       "      <th>Dummy_A173</th>\n",
       "      <th>Dummy_Purpose_Credit_Taken_Low</th>\n",
       "      <th>Dummy_Purpose_Credit_Taken_High</th>\n",
       "      <th>Dummy_Age_Group</th>\n",
       "    </tr>\n",
       "  </thead>\n",
       "  <tbody>\n",
       "    <tr>\n",
       "      <th>0</th>\n",
       "      <td>3939</td>\n",
       "      <td>11</td>\n",
       "      <td>S11</td>\n",
       "      <td>A34</td>\n",
       "      <td>E73</td>\n",
       "      <td>A93</td>\n",
       "      <td>A101</td>\n",
       "      <td>2</td>\n",
       "      <td>40</td>\n",
       "      <td>A152</td>\n",
       "      <td>2</td>\n",
       "      <td>A201</td>\n",
       "      <td>0</td>\n",
       "      <td>0</td>\n",
       "      <td>1</td>\n",
       "      <td>0</td>\n",
       "      <td>0</td>\n",
       "      <td>1</td>\n",
       "      <td>0</td>\n",
       "    </tr>\n",
       "    <tr>\n",
       "      <th>1</th>\n",
       "      <td>1795</td>\n",
       "      <td>18</td>\n",
       "      <td>S12</td>\n",
       "      <td>A34</td>\n",
       "      <td>E75</td>\n",
       "      <td>A92</td>\n",
       "      <td>A103</td>\n",
       "      <td>4</td>\n",
       "      <td>48</td>\n",
       "      <td>A151</td>\n",
       "      <td>2</td>\n",
       "      <td>A201</td>\n",
       "      <td>0</td>\n",
       "      <td>0</td>\n",
       "      <td>1</td>\n",
       "      <td>0</td>\n",
       "      <td>1</td>\n",
       "      <td>0</td>\n",
       "      <td>0</td>\n",
       "    </tr>\n",
       "    <tr>\n",
       "      <th>2</th>\n",
       "      <td>6143</td>\n",
       "      <td>48</td>\n",
       "      <td>S11</td>\n",
       "      <td>A34</td>\n",
       "      <td>E75</td>\n",
       "      <td>A92</td>\n",
       "      <td>A101</td>\n",
       "      <td>4</td>\n",
       "      <td>58</td>\n",
       "      <td>A153</td>\n",
       "      <td>2</td>\n",
       "      <td>A201</td>\n",
       "      <td>1</td>\n",
       "      <td>0</td>\n",
       "      <td>1</td>\n",
       "      <td>0</td>\n",
       "      <td>1</td>\n",
       "      <td>0</td>\n",
       "      <td>0</td>\n",
       "    </tr>\n",
       "    <tr>\n",
       "      <th>3</th>\n",
       "      <td>2675</td>\n",
       "      <td>22</td>\n",
       "      <td>S14</td>\n",
       "      <td>A32</td>\n",
       "      <td>E75</td>\n",
       "      <td>A93</td>\n",
       "      <td>A101</td>\n",
       "      <td>4</td>\n",
       "      <td>40</td>\n",
       "      <td>A152</td>\n",
       "      <td>1</td>\n",
       "      <td>A201</td>\n",
       "      <td>0</td>\n",
       "      <td>0</td>\n",
       "      <td>0</td>\n",
       "      <td>1</td>\n",
       "      <td>1</td>\n",
       "      <td>0</td>\n",
       "      <td>0</td>\n",
       "    </tr>\n",
       "    <tr>\n",
       "      <th>4</th>\n",
       "      <td>12389</td>\n",
       "      <td>36</td>\n",
       "      <td>S12</td>\n",
       "      <td>A32</td>\n",
       "      <td>E73</td>\n",
       "      <td>A93</td>\n",
       "      <td>A101</td>\n",
       "      <td>4</td>\n",
       "      <td>37</td>\n",
       "      <td>A153</td>\n",
       "      <td>1</td>\n",
       "      <td>A201</td>\n",
       "      <td>1</td>\n",
       "      <td>0</td>\n",
       "      <td>0</td>\n",
       "      <td>0</td>\n",
       "      <td>0</td>\n",
       "      <td>1</td>\n",
       "      <td>0</td>\n",
       "    </tr>\n",
       "  </tbody>\n",
       "</table>\n",
       "</div>"
      ],
      "text/plain": [
       "   Credit_Amount  Duration_in_Months Status_Checking_Accnt Credit_History  \\\n",
       "0           3939                  11                   S11            A34   \n",
       "1           1795                  18                   S12            A34   \n",
       "2           6143                  48                   S11            A34   \n",
       "3           2675                  22                   S14            A32   \n",
       "4          12389                  36                   S12            A32   \n",
       "\n",
       "  Years_At_Present_Employment Marital_Status_Gender Other_Debtors_Guarantors  \\\n",
       "0                         E73                   A93                     A101   \n",
       "1                         E75                   A92                     A103   \n",
       "2                         E75                   A92                     A101   \n",
       "3                         E75                   A93                     A101   \n",
       "4                         E73                   A93                     A101   \n",
       "\n",
       "   Current_Address_Yrs  Age Housing  Num_Credits Foreign_Worker  \\\n",
       "0                    2   40    A152            2           A201   \n",
       "1                    4   48    A151            2           A201   \n",
       "2                    4   58    A153            2           A201   \n",
       "3                    4   40    A152            1           A201   \n",
       "4                    4   37    A153            1           A201   \n",
       "\n",
       "   Default_On_Payment  Dummy_A171  Dummy_A172  Dummy_A173  \\\n",
       "0                   0           0           1           0   \n",
       "1                   0           0           1           0   \n",
       "2                   1           0           1           0   \n",
       "3                   0           0           0           1   \n",
       "4                   1           0           0           0   \n",
       "\n",
       "   Dummy_Purpose_Credit_Taken_Low  Dummy_Purpose_Credit_Taken_High  \\\n",
       "0                               0                                1   \n",
       "1                               1                                0   \n",
       "2                               1                                0   \n",
       "3                               1                                0   \n",
       "4                               0                                1   \n",
       "\n",
       "  Dummy_Age_Group  \n",
       "0               0  \n",
       "1               0  \n",
       "2               0  \n",
       "3               0  \n",
       "4               0  "
      ]
     },
     "execution_count": 260,
     "metadata": {},
     "output_type": "execute_result"
    }
   ],
   "source": [
    "model_data_bkp.head()"
   ]
  },
  {
   "cell_type": "code",
   "execution_count": 261,
   "metadata": {},
   "outputs": [
    {
     "data": {
      "text/html": [
       "<div>\n",
       "<style scoped>\n",
       "    .dataframe tbody tr th:only-of-type {\n",
       "        vertical-align: middle;\n",
       "    }\n",
       "\n",
       "    .dataframe tbody tr th {\n",
       "        vertical-align: top;\n",
       "    }\n",
       "\n",
       "    .dataframe thead th {\n",
       "        text-align: right;\n",
       "    }\n",
       "</style>\n",
       "<table border=\"1\" class=\"dataframe\">\n",
       "  <thead>\n",
       "    <tr style=\"text-align: right;\">\n",
       "      <th></th>\n",
       "      <th>Age</th>\n",
       "      <th>Dummy_Age_Group</th>\n",
       "    </tr>\n",
       "  </thead>\n",
       "  <tbody>\n",
       "    <tr>\n",
       "      <th>0</th>\n",
       "      <td>40</td>\n",
       "      <td>0</td>\n",
       "    </tr>\n",
       "    <tr>\n",
       "      <th>1</th>\n",
       "      <td>48</td>\n",
       "      <td>0</td>\n",
       "    </tr>\n",
       "    <tr>\n",
       "      <th>2</th>\n",
       "      <td>58</td>\n",
       "      <td>0</td>\n",
       "    </tr>\n",
       "    <tr>\n",
       "      <th>3</th>\n",
       "      <td>40</td>\n",
       "      <td>0</td>\n",
       "    </tr>\n",
       "    <tr>\n",
       "      <th>4</th>\n",
       "      <td>37</td>\n",
       "      <td>0</td>\n",
       "    </tr>\n",
       "    <tr>\n",
       "      <th>5</th>\n",
       "      <td>32</td>\n",
       "      <td>0</td>\n",
       "    </tr>\n",
       "    <tr>\n",
       "      <th>6</th>\n",
       "      <td>45</td>\n",
       "      <td>0</td>\n",
       "    </tr>\n",
       "    <tr>\n",
       "      <th>7</th>\n",
       "      <td>28</td>\n",
       "      <td>1</td>\n",
       "    </tr>\n",
       "    <tr>\n",
       "      <th>8</th>\n",
       "      <td>46</td>\n",
       "      <td>0</td>\n",
       "    </tr>\n",
       "    <tr>\n",
       "      <th>9</th>\n",
       "      <td>33</td>\n",
       "      <td>0</td>\n",
       "    </tr>\n",
       "  </tbody>\n",
       "</table>\n",
       "</div>"
      ],
      "text/plain": [
       "   Age Dummy_Age_Group\n",
       "0   40               0\n",
       "1   48               0\n",
       "2   58               0\n",
       "3   40               0\n",
       "4   37               0\n",
       "5   32               0\n",
       "6   45               0\n",
       "7   28               1\n",
       "8   46               0\n",
       "9   33               0"
      ]
     },
     "execution_count": 261,
     "metadata": {},
     "output_type": "execute_result"
    }
   ],
   "source": [
    "model_data_bkp[['Age','Dummy_Age_Group']].head(10)"
   ]
  },
  {
   "cell_type": "code",
   "execution_count": 262,
   "metadata": {},
   "outputs": [
    {
     "data": {
      "text/plain": [
       "(5000, 19)"
      ]
     },
     "execution_count": 262,
     "metadata": {},
     "output_type": "execute_result"
    }
   ],
   "source": [
    "model_data_bkp.shape"
   ]
  },
  {
   "cell_type": "code",
   "execution_count": 263,
   "metadata": {},
   "outputs": [],
   "source": [
    "model_data_bkp = model_data_bkp.drop(['Age'],axis=1)"
   ]
  },
  {
   "cell_type": "code",
   "execution_count": 264,
   "metadata": {},
   "outputs": [
    {
     "data": {
      "text/plain": [
       "(5000, 18)"
      ]
     },
     "execution_count": 264,
     "metadata": {},
     "output_type": "execute_result"
    }
   ],
   "source": [
    "model_data_bkp.shape"
   ]
  },
  {
   "cell_type": "code",
   "execution_count": 265,
   "metadata": {},
   "outputs": [
    {
     "data": {
      "text/html": [
       "<div>\n",
       "<style scoped>\n",
       "    .dataframe tbody tr th:only-of-type {\n",
       "        vertical-align: middle;\n",
       "    }\n",
       "\n",
       "    .dataframe tbody tr th {\n",
       "        vertical-align: top;\n",
       "    }\n",
       "\n",
       "    .dataframe thead th {\n",
       "        text-align: right;\n",
       "    }\n",
       "</style>\n",
       "<table border=\"1\" class=\"dataframe\">\n",
       "  <thead>\n",
       "    <tr style=\"text-align: right;\">\n",
       "      <th></th>\n",
       "      <th>Duration_in_Months</th>\n",
       "      <th>Status_Checking_Accnt</th>\n",
       "      <th>Housing</th>\n",
       "      <th>Foreign_Worker</th>\n",
       "      <th>Dummy_A172</th>\n",
       "      <th>Dummy_A173</th>\n",
       "      <th>Dummy_Purpose_Credit_Taken_Low</th>\n",
       "      <th>Dummy_Purpose_Credit_Taken_High</th>\n",
       "      <th>Dummy_Age_Group</th>\n",
       "    </tr>\n",
       "  </thead>\n",
       "  <tbody>\n",
       "    <tr>\n",
       "      <th>0</th>\n",
       "      <td>11</td>\n",
       "      <td>S11</td>\n",
       "      <td>A152</td>\n",
       "      <td>A201</td>\n",
       "      <td>1</td>\n",
       "      <td>0</td>\n",
       "      <td>0</td>\n",
       "      <td>1</td>\n",
       "      <td>0</td>\n",
       "    </tr>\n",
       "    <tr>\n",
       "      <th>1</th>\n",
       "      <td>18</td>\n",
       "      <td>S12</td>\n",
       "      <td>A151</td>\n",
       "      <td>A201</td>\n",
       "      <td>1</td>\n",
       "      <td>0</td>\n",
       "      <td>1</td>\n",
       "      <td>0</td>\n",
       "      <td>0</td>\n",
       "    </tr>\n",
       "    <tr>\n",
       "      <th>2</th>\n",
       "      <td>48</td>\n",
       "      <td>S11</td>\n",
       "      <td>A153</td>\n",
       "      <td>A201</td>\n",
       "      <td>1</td>\n",
       "      <td>0</td>\n",
       "      <td>1</td>\n",
       "      <td>0</td>\n",
       "      <td>0</td>\n",
       "    </tr>\n",
       "    <tr>\n",
       "      <th>3</th>\n",
       "      <td>22</td>\n",
       "      <td>S14</td>\n",
       "      <td>A152</td>\n",
       "      <td>A201</td>\n",
       "      <td>0</td>\n",
       "      <td>1</td>\n",
       "      <td>1</td>\n",
       "      <td>0</td>\n",
       "      <td>0</td>\n",
       "    </tr>\n",
       "    <tr>\n",
       "      <th>4</th>\n",
       "      <td>36</td>\n",
       "      <td>S12</td>\n",
       "      <td>A153</td>\n",
       "      <td>A201</td>\n",
       "      <td>0</td>\n",
       "      <td>0</td>\n",
       "      <td>0</td>\n",
       "      <td>1</td>\n",
       "      <td>0</td>\n",
       "    </tr>\n",
       "    <tr>\n",
       "      <th>...</th>\n",
       "      <td>...</td>\n",
       "      <td>...</td>\n",
       "      <td>...</td>\n",
       "      <td>...</td>\n",
       "      <td>...</td>\n",
       "      <td>...</td>\n",
       "      <td>...</td>\n",
       "      <td>...</td>\n",
       "      <td>...</td>\n",
       "    </tr>\n",
       "    <tr>\n",
       "      <th>4995</th>\n",
       "      <td>36</td>\n",
       "      <td>S12</td>\n",
       "      <td>A152</td>\n",
       "      <td>A201</td>\n",
       "      <td>0</td>\n",
       "      <td>1</td>\n",
       "      <td>1</td>\n",
       "      <td>0</td>\n",
       "      <td>0</td>\n",
       "    </tr>\n",
       "    <tr>\n",
       "      <th>4996</th>\n",
       "      <td>11</td>\n",
       "      <td>S14</td>\n",
       "      <td>A152</td>\n",
       "      <td>A201</td>\n",
       "      <td>1</td>\n",
       "      <td>0</td>\n",
       "      <td>0</td>\n",
       "      <td>1</td>\n",
       "      <td>0</td>\n",
       "    </tr>\n",
       "    <tr>\n",
       "      <th>4997</th>\n",
       "      <td>36</td>\n",
       "      <td>S14</td>\n",
       "      <td>A152</td>\n",
       "      <td>A201</td>\n",
       "      <td>0</td>\n",
       "      <td>1</td>\n",
       "      <td>1</td>\n",
       "      <td>0</td>\n",
       "      <td>1</td>\n",
       "    </tr>\n",
       "    <tr>\n",
       "      <th>4998</th>\n",
       "      <td>18</td>\n",
       "      <td>S12</td>\n",
       "      <td>A152</td>\n",
       "      <td>A201</td>\n",
       "      <td>0</td>\n",
       "      <td>1</td>\n",
       "      <td>0</td>\n",
       "      <td>1</td>\n",
       "      <td>0</td>\n",
       "    </tr>\n",
       "    <tr>\n",
       "      <th>4999</th>\n",
       "      <td>11</td>\n",
       "      <td>S14</td>\n",
       "      <td>A152</td>\n",
       "      <td>A201</td>\n",
       "      <td>0</td>\n",
       "      <td>1</td>\n",
       "      <td>0</td>\n",
       "      <td>1</td>\n",
       "      <td>1</td>\n",
       "    </tr>\n",
       "  </tbody>\n",
       "</table>\n",
       "<p>5000 rows × 9 columns</p>\n",
       "</div>"
      ],
      "text/plain": [
       "      Duration_in_Months Status_Checking_Accnt Housing Foreign_Worker  \\\n",
       "0                     11                   S11    A152           A201   \n",
       "1                     18                   S12    A151           A201   \n",
       "2                     48                   S11    A153           A201   \n",
       "3                     22                   S14    A152           A201   \n",
       "4                     36                   S12    A153           A201   \n",
       "...                  ...                   ...     ...            ...   \n",
       "4995                  36                   S12    A152           A201   \n",
       "4996                  11                   S14    A152           A201   \n",
       "4997                  36                   S14    A152           A201   \n",
       "4998                  18                   S12    A152           A201   \n",
       "4999                  11                   S14    A152           A201   \n",
       "\n",
       "      Dummy_A172  Dummy_A173  Dummy_Purpose_Credit_Taken_Low  \\\n",
       "0              1           0                               0   \n",
       "1              1           0                               1   \n",
       "2              1           0                               1   \n",
       "3              0           1                               1   \n",
       "4              0           0                               0   \n",
       "...          ...         ...                             ...   \n",
       "4995           0           1                               1   \n",
       "4996           1           0                               0   \n",
       "4997           0           1                               1   \n",
       "4998           0           1                               0   \n",
       "4999           0           1                               0   \n",
       "\n",
       "      Dummy_Purpose_Credit_Taken_High Dummy_Age_Group  \n",
       "0                                   1               0  \n",
       "1                                   0               0  \n",
       "2                                   0               0  \n",
       "3                                   0               0  \n",
       "4                                   1               0  \n",
       "...                               ...             ...  \n",
       "4995                                0               0  \n",
       "4996                                1               0  \n",
       "4997                                0               1  \n",
       "4998                                1               0  \n",
       "4999                                1               1  \n",
       "\n",
       "[5000 rows x 9 columns]"
      ]
     },
     "execution_count": 265,
     "metadata": {},
     "output_type": "execute_result"
    }
   ],
   "source": [
    "X = model_data_bkp.iloc[:,[1,2,8,10,13,14,15,16,17,]]\n",
    "X"
   ]
  },
  {
   "cell_type": "code",
   "execution_count": 266,
   "metadata": {},
   "outputs": [
    {
     "data": {
      "text/plain": [
       "0       0\n",
       "1       0\n",
       "2       1\n",
       "3       0\n",
       "4       1\n",
       "       ..\n",
       "4995    0\n",
       "4996    0\n",
       "4997    0\n",
       "4998    0\n",
       "4999    0\n",
       "Name: Default_On_Payment, Length: 5000, dtype: int64"
      ]
     },
     "execution_count": 266,
     "metadata": {},
     "output_type": "execute_result"
    }
   ],
   "source": [
    "y = model_data_bkp.iloc[:,11]\n",
    "y"
   ]
  },
  {
   "cell_type": "code",
   "execution_count": 267,
   "metadata": {},
   "outputs": [
    {
     "data": {
      "text/html": [
       "<div>\n",
       "<style scoped>\n",
       "    .dataframe tbody tr th:only-of-type {\n",
       "        vertical-align: middle;\n",
       "    }\n",
       "\n",
       "    .dataframe tbody tr th {\n",
       "        vertical-align: top;\n",
       "    }\n",
       "\n",
       "    .dataframe thead th {\n",
       "        text-align: right;\n",
       "    }\n",
       "</style>\n",
       "<table border=\"1\" class=\"dataframe\">\n",
       "  <thead>\n",
       "    <tr style=\"text-align: right;\">\n",
       "      <th></th>\n",
       "      <th>Credit_Amount</th>\n",
       "      <th>Duration_in_Months</th>\n",
       "      <th>Current_Address_Yrs</th>\n",
       "      <th>Num_Credits</th>\n",
       "      <th>Default_On_Payment</th>\n",
       "      <th>Dummy_A171</th>\n",
       "      <th>Dummy_A172</th>\n",
       "      <th>Dummy_A173</th>\n",
       "      <th>Dummy_Purpose_Credit_Taken_Low</th>\n",
       "      <th>Dummy_Purpose_Credit_Taken_High</th>\n",
       "    </tr>\n",
       "  </thead>\n",
       "  <tbody>\n",
       "    <tr>\n",
       "      <th>0</th>\n",
       "      <td>3939</td>\n",
       "      <td>11</td>\n",
       "      <td>2</td>\n",
       "      <td>2</td>\n",
       "      <td>0</td>\n",
       "      <td>0</td>\n",
       "      <td>1</td>\n",
       "      <td>0</td>\n",
       "      <td>0</td>\n",
       "      <td>1</td>\n",
       "    </tr>\n",
       "    <tr>\n",
       "      <th>1</th>\n",
       "      <td>1795</td>\n",
       "      <td>18</td>\n",
       "      <td>4</td>\n",
       "      <td>2</td>\n",
       "      <td>0</td>\n",
       "      <td>0</td>\n",
       "      <td>1</td>\n",
       "      <td>0</td>\n",
       "      <td>1</td>\n",
       "      <td>0</td>\n",
       "    </tr>\n",
       "    <tr>\n",
       "      <th>2</th>\n",
       "      <td>6143</td>\n",
       "      <td>48</td>\n",
       "      <td>4</td>\n",
       "      <td>2</td>\n",
       "      <td>1</td>\n",
       "      <td>0</td>\n",
       "      <td>1</td>\n",
       "      <td>0</td>\n",
       "      <td>1</td>\n",
       "      <td>0</td>\n",
       "    </tr>\n",
       "    <tr>\n",
       "      <th>3</th>\n",
       "      <td>2675</td>\n",
       "      <td>22</td>\n",
       "      <td>4</td>\n",
       "      <td>1</td>\n",
       "      <td>0</td>\n",
       "      <td>0</td>\n",
       "      <td>0</td>\n",
       "      <td>1</td>\n",
       "      <td>1</td>\n",
       "      <td>0</td>\n",
       "    </tr>\n",
       "    <tr>\n",
       "      <th>4</th>\n",
       "      <td>12389</td>\n",
       "      <td>36</td>\n",
       "      <td>4</td>\n",
       "      <td>1</td>\n",
       "      <td>1</td>\n",
       "      <td>0</td>\n",
       "      <td>0</td>\n",
       "      <td>0</td>\n",
       "      <td>0</td>\n",
       "      <td>1</td>\n",
       "    </tr>\n",
       "  </tbody>\n",
       "</table>\n",
       "</div>"
      ],
      "text/plain": [
       "   Credit_Amount  Duration_in_Months  Current_Address_Yrs  Num_Credits  \\\n",
       "0           3939                  11                    2            2   \n",
       "1           1795                  18                    4            2   \n",
       "2           6143                  48                    4            2   \n",
       "3           2675                  22                    4            1   \n",
       "4          12389                  36                    4            1   \n",
       "\n",
       "   Default_On_Payment  Dummy_A171  Dummy_A172  Dummy_A173  \\\n",
       "0                   0           0           1           0   \n",
       "1                   0           0           1           0   \n",
       "2                   1           0           1           0   \n",
       "3                   0           0           0           1   \n",
       "4                   1           0           0           0   \n",
       "\n",
       "   Dummy_Purpose_Credit_Taken_Low  Dummy_Purpose_Credit_Taken_High  \n",
       "0                               0                                1  \n",
       "1                               1                                0  \n",
       "2                               1                                0  \n",
       "3                               1                                0  \n",
       "4                               0                                1  "
      ]
     },
     "execution_count": 267,
     "metadata": {},
     "output_type": "execute_result"
    }
   ],
   "source": [
    "df2 = model_data_bkp._get_numeric_data() #drop non-numeric cols\n",
    "df2.head()"
   ]
  },
  {
   "cell_type": "code",
   "execution_count": 268,
   "metadata": {},
   "outputs": [
    {
     "data": {
      "text/plain": [
       "array([[3939,   11,    2, ...,    0,    0,    1],\n",
       "       [1795,   18,    4, ...,    0,    1,    0],\n",
       "       [6143,   48,    4, ...,    0,    1,    0],\n",
       "       ...,\n",
       "       [3595,   36,    2, ...,    1,    1,    0],\n",
       "       [2622,   18,    4, ...,    1,    0,    1],\n",
       "       [2142,   11,    2, ...,    1,    0,    1]], dtype=int64)"
      ]
     },
     "execution_count": 268,
     "metadata": {},
     "output_type": "execute_result"
    }
   ],
   "source": [
    "X = df2.loc[:, df2.columns!='Default_On_Payment'].values\n",
    "X"
   ]
  },
  {
   "cell_type": "code",
   "execution_count": 269,
   "metadata": {},
   "outputs": [],
   "source": [
    "y = df2.iloc[:, 5].values\n",
    "y = y.reshape((-1, 1))"
   ]
  },
  {
   "cell_type": "code",
   "execution_count": 270,
   "metadata": {},
   "outputs": [],
   "source": [
    "logit = sm.Logit(y, sm.add_constant(X))\n",
    "#lg =logit.fit()\n",
    "# lg.summary()"
   ]
  },
  {
   "cell_type": "code",
   "execution_count": 271,
   "metadata": {},
   "outputs": [],
   "source": [
    "x_train1, x_test1, y_train1, y_test1 = train_test_split(X, y, test_size=0.30, random_state=4)"
   ]
  },
  {
   "cell_type": "code",
   "execution_count": 272,
   "metadata": {},
   "outputs": [
    {
     "name": "stdout",
     "output_type": "stream",
     "text": [
      "[-1.98818985]\n",
      "[[-1.53552489e-04 -1.93217552e-02 -9.66500814e-02 -5.89346106e-01\n",
      "   6.28054478e+00 -2.24107680e+00 -3.84114370e+00 -9.15521367e-01\n",
      "   2.32141526e-01]]\n"
     ]
    },
    {
     "name": "stderr",
     "output_type": "stream",
     "text": [
      "E:\\anaconda\\envs\\tensorflow_env\\lib\\site-packages\\sklearn\\utils\\validation.py:72: DataConversionWarning: A column-vector y was passed when a 1d array was expected. Please change the shape of y to (n_samples, ), for example using ravel().\n",
      "  return f(**kwargs)\n",
      "E:\\anaconda\\envs\\tensorflow_env\\lib\\site-packages\\sklearn\\linear_model\\_logistic.py:762: ConvergenceWarning: lbfgs failed to converge (status=1):\n",
      "STOP: TOTAL NO. of ITERATIONS REACHED LIMIT.\n",
      "\n",
      "Increase the number of iterations (max_iter) or scale the data as shown in:\n",
      "    https://scikit-learn.org/stable/modules/preprocessing.html\n",
      "Please also refer to the documentation for alternative solver options:\n",
      "    https://scikit-learn.org/stable/modules/linear_model.html#logistic-regression\n",
      "  n_iter_i = _check_optimize_result(\n"
     ]
    },
    {
     "data": {
      "text/plain": [
       "array([0, 0, 0, ..., 0, 0, 0])"
      ]
     },
     "execution_count": 272,
     "metadata": {},
     "output_type": "execute_result"
    }
   ],
   "source": [
    "regr = LogisticRegression()\n",
    "regr.fit(x_train1, y_train1)\n",
    "print(regr.intercept_)\n",
    "print(regr.coef_)\n",
    "pred = regr.predict(x_test1)\n",
    "pred"
   ]
  },
  {
   "cell_type": "code",
   "execution_count": 273,
   "metadata": {},
   "outputs": [
    {
     "data": {
      "text/plain": [
       "1.0"
      ]
     },
     "execution_count": 273,
     "metadata": {},
     "output_type": "execute_result"
    }
   ],
   "source": [
    "acc = regr.score(x_test1, y_test1)\n",
    "acc"
   ]
  },
  {
   "cell_type": "code",
   "execution_count": 274,
   "metadata": {},
   "outputs": [
    {
     "data": {
      "text/plain": [
       "1.0"
      ]
     },
     "execution_count": 274,
     "metadata": {},
     "output_type": "execute_result"
    }
   ],
   "source": [
    "accuracy_score(y_test1, pred)"
   ]
  }
 ],
 "metadata": {
  "kernelspec": {
   "display_name": "Python 3",
   "language": "python",
   "name": "python3"
  },
  "language_info": {
   "codemirror_mode": {
    "name": "ipython",
    "version": 3
   },
   "file_extension": ".py",
   "mimetype": "text/x-python",
   "name": "python",
   "nbconvert_exporter": "python",
   "pygments_lexer": "ipython3",
   "version": "3.8.5"
  }
 },
 "nbformat": 4,
 "nbformat_minor": 4
}
